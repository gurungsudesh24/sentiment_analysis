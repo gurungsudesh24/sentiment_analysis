{
 "cells": [
  {
   "cell_type": "code",
   "execution_count": 1,
   "id": "51b0feec",
   "metadata": {},
   "outputs": [
    {
     "name": "stdout",
     "output_type": "stream",
     "text": [
      "showing info https://raw.githubusercontent.com/nltk/nltk_data/gh-pages/index.xml\n"
     ]
    },
    {
     "data": {
      "text/plain": [
       "True"
      ]
     },
     "execution_count": 1,
     "metadata": {},
     "output_type": "execute_result"
    }
   ],
   "source": [
    "import numpy as np\n",
    "import pandas as pd \n",
    "import nltk \n",
    "import string \n",
    "\n",
    "from nltk.tokenize import word_tokenize\n",
    "from nltk.corpus import stopwords\n",
    "from sklearn.feature_extraction.text import CountVectorizer \n",
    "from sklearn.feature_extraction.text import TfidfVectorizer \n",
    "from sklearn.feature_extraction.text import TfidfTransformer\n",
    "\n",
    "nltk.download()"
   ]
  },
  {
   "cell_type": "code",
   "execution_count": 2,
   "id": "468921cc",
   "metadata": {},
   "outputs": [
    {
     "data": {
      "text/html": [
       "<div>\n",
       "<style scoped>\n",
       "    .dataframe tbody tr th:only-of-type {\n",
       "        vertical-align: middle;\n",
       "    }\n",
       "\n",
       "    .dataframe tbody tr th {\n",
       "        vertical-align: top;\n",
       "    }\n",
       "\n",
       "    .dataframe thead th {\n",
       "        text-align: right;\n",
       "    }\n",
       "</style>\n",
       "<table border=\"1\" class=\"dataframe\">\n",
       "  <thead>\n",
       "    <tr style=\"text-align: right;\">\n",
       "      <th></th>\n",
       "      <th>Review</th>\n",
       "      <th>Sentiment</th>\n",
       "    </tr>\n",
       "  </thead>\n",
       "  <tbody>\n",
       "    <tr>\n",
       "      <th>385</th>\n",
       "      <td>The worst piece of crap ever along with the Ve...</td>\n",
       "      <td>0</td>\n",
       "    </tr>\n",
       "    <tr>\n",
       "      <th>29</th>\n",
       "      <td>Doesn't hold charge.</td>\n",
       "      <td>0</td>\n",
       "    </tr>\n",
       "    <tr>\n",
       "      <th>376</th>\n",
       "      <td>Protects the phone on all sides.</td>\n",
       "      <td>1</td>\n",
       "    </tr>\n",
       "    <tr>\n",
       "      <th>35</th>\n",
       "      <td>You need at least 3 mins to get to your phone ...</td>\n",
       "      <td>0</td>\n",
       "    </tr>\n",
       "    <tr>\n",
       "      <th>67</th>\n",
       "      <td>It feels more comfortable than most headsets b...</td>\n",
       "      <td>1</td>\n",
       "    </tr>\n",
       "    <tr>\n",
       "      <th>81</th>\n",
       "      <td>Not a good bargain.</td>\n",
       "      <td>0</td>\n",
       "    </tr>\n",
       "    <tr>\n",
       "      <th>336</th>\n",
       "      <td>Obviously there is a problem with the adhesive.</td>\n",
       "      <td>0</td>\n",
       "    </tr>\n",
       "    <tr>\n",
       "      <th>373</th>\n",
       "      <td>The worst phone I've ever had.... Only had it ...</td>\n",
       "      <td>0</td>\n",
       "    </tr>\n",
       "    <tr>\n",
       "      <th>516</th>\n",
       "      <td>I am very impressed with the job that Motorola...</td>\n",
       "      <td>1</td>\n",
       "    </tr>\n",
       "    <tr>\n",
       "      <th>970</th>\n",
       "      <td>I plugged it in only to find out not a darn th...</td>\n",
       "      <td>0</td>\n",
       "    </tr>\n",
       "  </tbody>\n",
       "</table>\n",
       "</div>"
      ],
      "text/plain": [
       "                                                Review  Sentiment\n",
       "385  The worst piece of crap ever along with the Ve...          0\n",
       "29                                Doesn't hold charge.          0\n",
       "376                   Protects the phone on all sides.          1\n",
       "35   You need at least 3 mins to get to your phone ...          0\n",
       "67   It feels more comfortable than most headsets b...          1\n",
       "81                                 Not a good bargain.          0\n",
       "336    Obviously there is a problem with the adhesive.          0\n",
       "373  The worst phone I've ever had.... Only had it ...          0\n",
       "516  I am very impressed with the job that Motorola...          1\n",
       "970  I plugged it in only to find out not a darn th...          0"
      ]
     },
     "execution_count": 2,
     "metadata": {},
     "output_type": "execute_result"
    }
   ],
   "source": [
    "reviews = pd.read_csv('/Users/sudeshgurung/Msc-Data_Analytics/ADTA_with_python/coursework_part_2/Part_2/dataset/amazon_cells_labelled.txt', sep=\"\\t\" , names = ['Review', 'Sentiment'])\n",
    "reviews.sample(10)"
   ]
  },
  {
   "cell_type": "code",
   "execution_count": 3,
   "id": "c5636899",
   "metadata": {},
   "outputs": [
    {
     "data": {
      "text/plain": [
       "(1000, 2)"
      ]
     },
     "execution_count": 3,
     "metadata": {},
     "output_type": "execute_result"
    }
   ],
   "source": [
    "reviews.shape"
   ]
  },
  {
   "cell_type": "code",
   "execution_count": 4,
   "id": "c46f8841",
   "metadata": {},
   "outputs": [
    {
     "data": {
      "text/plain": [
       "Review       object\n",
       "Sentiment     int64\n",
       "dtype: object"
      ]
     },
     "execution_count": 4,
     "metadata": {},
     "output_type": "execute_result"
    }
   ],
   "source": [
    "reviews.dtypes"
   ]
  },
  {
   "cell_type": "code",
   "execution_count": 5,
   "id": "bc5a243c",
   "metadata": {},
   "outputs": [
    {
     "data": {
      "text/plain": [
       "0    500\n",
       "1    500\n",
       "Name: Sentiment, dtype: int64"
      ]
     },
     "execution_count": 5,
     "metadata": {},
     "output_type": "execute_result"
    }
   ],
   "source": [
    "reviews['Sentiment'].value_counts()"
   ]
  },
  {
   "cell_type": "markdown",
   "id": "38df64b2",
   "metadata": {},
   "source": [
    "## Text pre-processing steps"
   ]
  },
  {
   "cell_type": "markdown",
   "id": "87714cc7",
   "metadata": {},
   "source": [
    "### 1. Changing sentence column datatype to string "
   ]
  },
  {
   "cell_type": "code",
   "execution_count": 6,
   "id": "6444de4a",
   "metadata": {},
   "outputs": [
    {
     "data": {
      "text/plain": [
       "Review       string\n",
       "Sentiment     int64\n",
       "dtype: object"
      ]
     },
     "execution_count": 6,
     "metadata": {},
     "output_type": "execute_result"
    }
   ],
   "source": [
    "reviews = reviews.astype({'Review': 'string'})\n",
    "reviews.dtypes"
   ]
  },
  {
   "cell_type": "code",
   "execution_count": 7,
   "id": "0d88fd8b",
   "metadata": {},
   "outputs": [
    {
     "data": {
      "text/plain": [
       "0    So there is no way for me to plug it in here i...\n",
       "1                          Good case, Excellent value.\n",
       "2                               Great for the jawbone.\n",
       "3    Tied to charger for conversations lasting more...\n",
       "4                                    The mic is great.\n",
       "5    I have to jiggle the plug to get it to line up...\n",
       "6    If you have several dozen or several hundred c...\n",
       "7          If you are Razr owner...you must have this!\n",
       "8                  Needless to say, I wasted my money.\n",
       "Name: Review, dtype: string"
      ]
     },
     "execution_count": 7,
     "metadata": {},
     "output_type": "execute_result"
    }
   ],
   "source": [
    "# only the sentence for text pre-processing \n",
    "review_column = reviews['Review']\n",
    "review_column[:9]"
   ]
  },
  {
   "cell_type": "code",
   "execution_count": null,
   "id": "f7e66bf5",
   "metadata": {},
   "outputs": [],
   "source": []
  },
  {
   "cell_type": "code",
   "execution_count": 8,
   "id": "1263e919",
   "metadata": {},
   "outputs": [
    {
     "data": {
      "text/plain": [
       "'Tied to charger for conversations lasting more than 45 minutes.MAJOR PROBLEMS!!'"
      ]
     },
     "execution_count": 8,
     "metadata": {},
     "output_type": "execute_result"
    }
   ],
   "source": [
    "review_column[3]"
   ]
  },
  {
   "cell_type": "markdown",
   "id": "903a54d0",
   "metadata": {},
   "source": [
    "### 2. Removing punctuation, digits/numbers and turning all the text into lowercase"
   ]
  },
  {
   "cell_type": "code",
   "execution_count": 9,
   "id": "6512f0eb",
   "metadata": {},
   "outputs": [],
   "source": [
    "review_column1 = []\n",
    "\n",
    "for row in review_column: \n",
    "    \n",
    "    \n",
    "    #remove punctuation \n",
    "    row = row.translate(str.maketrans('', '', string.punctuation))\n",
    "    \n",
    "    #remove digits/numbers \n",
    "    row = row.translate(str.maketrans('', '', string.digits))\n",
    "    \n",
    "    #change to lowercase \n",
    "    row = row.lower()\n",
    "    \n",
    "    review_column1.append(row)\n"
   ]
  },
  {
   "cell_type": "code",
   "execution_count": 10,
   "id": "3f80c407",
   "metadata": {},
   "outputs": [
    {
     "data": {
      "text/plain": [
       "['so there is no way for me to plug it in here in the us unless i go by a converter',\n",
       " 'good case excellent value',\n",
       " 'great for the jawbone',\n",
       " 'tied to charger for conversations lasting more than  minutesmajor problems',\n",
       " 'the mic is great']"
      ]
     },
     "execution_count": 10,
     "metadata": {},
     "output_type": "execute_result"
    }
   ],
   "source": [
    "review_column1[:5]"
   ]
  },
  {
   "cell_type": "code",
   "execution_count": 11,
   "id": "8e7840f5",
   "metadata": {},
   "outputs": [
    {
     "data": {
      "text/plain": [
       "'so there is no way for me to plug it in here in the us unless i go by a converter'"
      ]
     },
     "execution_count": 11,
     "metadata": {},
     "output_type": "execute_result"
    }
   ],
   "source": [
    "review_column1[0]"
   ]
  },
  {
   "cell_type": "code",
   "execution_count": 12,
   "id": "2be68888",
   "metadata": {},
   "outputs": [
    {
     "data": {
      "text/plain": [
       "0    so there is no way for me to plug it in here i...\n",
       "1                            good case excellent value\n",
       "2                                great for the jawbone\n",
       "3    tied to charger for conversations lasting more...\n",
       "4                                     the mic is great\n",
       "dtype: object"
      ]
     },
     "execution_count": 12,
     "metadata": {},
     "output_type": "execute_result"
    }
   ],
   "source": [
    "review_column1 = pd.Series(review_column1)\n",
    "review_column1[:5]"
   ]
  },
  {
   "cell_type": "markdown",
   "id": "832ee8bc",
   "metadata": {},
   "source": [
    "### 3. Removing words less than 3 characters long"
   ]
  },
  {
   "cell_type": "code",
   "execution_count": 13,
   "id": "79b2b860",
   "metadata": {},
   "outputs": [
    {
     "data": {
      "text/plain": [
       "0           there way for plug here the unless converter\n",
       "1                              good case excellent value\n",
       "2                                  great for the jawbone\n",
       "3      tied charger for conversations lasting more th...\n",
       "4                                          the mic great\n",
       "                             ...                        \n",
       "995    the screen does get smudged easily because tou...\n",
       "996           what piece junk lose more calls this phone\n",
       "997                          item does not match picture\n",
       "998    the only thing that disappoint the infra red p...\n",
       "999    you can not answer calls with the unit never w...\n",
       "Length: 1000, dtype: object"
      ]
     },
     "execution_count": 13,
     "metadata": {},
     "output_type": "execute_result"
    }
   ],
   "source": [
    "# removing character less than 3\n",
    "removing_lt_3 = review_column1.apply(lambda x: ' '.join(term for term in x.split() if len(term) > 2))\n",
    "removing_lt_3"
   ]
  },
  {
   "cell_type": "code",
   "execution_count": 16,
   "id": "f1afa96c",
   "metadata": {},
   "outputs": [
    {
     "data": {
      "text/plain": [
       "'so there is no way for me to plug it in here in the us unless i go by a converter'"
      ]
     },
     "execution_count": 16,
     "metadata": {},
     "output_type": "execute_result"
    }
   ],
   "source": [
    "review_column1[0]"
   ]
  },
  {
   "cell_type": "code",
   "execution_count": 17,
   "id": "e4166a77",
   "metadata": {},
   "outputs": [
    {
     "data": {
      "text/plain": [
       "'there way for plug here the unless converter'"
      ]
     },
     "execution_count": 17,
     "metadata": {},
     "output_type": "execute_result"
    }
   ],
   "source": [
    "removing_lt_3[0]"
   ]
  },
  {
   "cell_type": "markdown",
   "id": "368d48ba",
   "metadata": {},
   "source": [
    "### 4. Remove stopwords"
   ]
  },
  {
   "cell_type": "code",
   "execution_count": 18,
   "id": "2265cb57",
   "metadata": {},
   "outputs": [
    {
     "data": {
      "text/plain": [
       "0                            way plug unless converter\n",
       "1                            good case excellent value\n",
       "2                                        great jawbone\n",
       "3    tied charger conversations lasting minutesmajo...\n",
       "4                                            mic great\n",
       "5         jiggle plug get line right get decent volume\n",
       "6    several dozen several hundred contacts imagine...\n",
       "7                                   razr owneryou must\n",
       "8                            needless say wasted money\n",
       "9                                     waste money time\n",
       "dtype: object"
      ]
     },
     "execution_count": 18,
     "metadata": {},
     "output_type": "execute_result"
    }
   ],
   "source": [
    "# setting english stopwords\n",
    "stop_words = set(stopwords.words('English'))\n",
    "\n",
    "review_column1 = removing_lt_3.apply(lambda x: ' '.join(term for term in x.split() if term not in stop_words))\n",
    "review_column1[:10]"
   ]
  },
  {
   "cell_type": "code",
   "execution_count": 19,
   "id": "be2cb946",
   "metadata": {},
   "outputs": [
    {
     "data": {
      "text/plain": [
       "'tied charger conversations lasting minutesmajor problems'"
      ]
     },
     "execution_count": 19,
     "metadata": {},
     "output_type": "execute_result"
    }
   ],
   "source": [
    "review_column1[3]"
   ]
  },
  {
   "cell_type": "markdown",
   "id": "a92adcc3",
   "metadata": {},
   "source": [
    "### 5. Applying Lemmatizing "
   ]
  },
  {
   "cell_type": "code",
   "execution_count": 20,
   "id": "3b39b4df",
   "metadata": {},
   "outputs": [],
   "source": [
    "from nltk.stem import WordNetLemmatizer\n",
    "\n",
    "lemmatizer = WordNetLemmatizer()\n",
    "reviews_with_only_lemmatizing = review_column1.apply(lambda x: ' '.join(lemmatizer.lemmatize(w) for w in x.split()))"
   ]
  },
  {
   "cell_type": "code",
   "execution_count": 21,
   "id": "c4ec97bc",
   "metadata": {},
   "outputs": [
    {
     "data": {
      "text/plain": [
       "0                            way plug unless converter\n",
       "1                            good case excellent value\n",
       "2                                        great jawbone\n",
       "3    tied charger conversation lasting minutesmajor...\n",
       "4                                            mic great\n",
       "5         jiggle plug get line right get decent volume\n",
       "6    several dozen several hundred contact imagine ...\n",
       "7                                   razr owneryou must\n",
       "8                              needle say wasted money\n",
       "9                                     waste money time\n",
       "dtype: object"
      ]
     },
     "execution_count": 21,
     "metadata": {},
     "output_type": "execute_result"
    }
   ],
   "source": [
    "reviews_with_only_lemmatizing[:10]"
   ]
  },
  {
   "cell_type": "markdown",
   "id": "a36644de",
   "metadata": {},
   "source": [
    "### 6. Applying Lemmatizing with POS tags"
   ]
  },
  {
   "cell_type": "code",
   "execution_count": 22,
   "id": "4ffc6de7",
   "metadata": {},
   "outputs": [
    {
     "data": {
      "text/plain": [
       "0                            way plug unless converter\n",
       "1                            good case excellent value\n",
       "2                                        great jawbone\n",
       "3    tie charger conversation last minutesmajor pro...\n",
       "4                                            mic great\n",
       "5         jiggle plug get line right get decent volume\n",
       "6    several dozen several hundred contact imagine ...\n",
       "7                                   razr owneryou must\n",
       "8                               needle say waste money\n",
       "9                                     waste money time\n",
       "dtype: object"
      ]
     },
     "execution_count": 22,
     "metadata": {},
     "output_type": "execute_result"
    }
   ],
   "source": [
    "# apply lemmatizing with POS tags \n",
    "from nltk.corpus import wordnet \n",
    "\n",
    "def get_wordnet_pos(word):\n",
    "    # Map POS tag to first character Lemmatize() accepts \n",
    "    tag = nltk.pos_tag([word])[0][1][0].upper()\n",
    "#     print(tag)\n",
    "    tag_dict = {\n",
    "        \"J\": wordnet.ADJ,\n",
    "        \"N\": wordnet.NOUN, \n",
    "        \"V\": wordnet.VERB,\n",
    "        \"R\": wordnet.ADV\n",
    "    }\n",
    "    return tag_dict.get(tag, wordnet.NOUN)\n",
    "\n",
    "\n",
    "# init WordNetLemmatizer\n",
    "lemmatizer = WordNetLemmatizer()                     \n",
    "reviews_with_POS_lemmatizing = review_column1.apply(lambda x: ' '.join(lemmatizer.lemmatize(w, get_wordnet_pos(w)) for w in x.split()))\n",
    "reviews_with_POS_lemmatizing[:10]\n"
   ]
  },
  {
   "cell_type": "code",
   "execution_count": 23,
   "id": "a85542d1",
   "metadata": {},
   "outputs": [
    {
     "data": {
      "text/html": [
       "<div>\n",
       "<style scoped>\n",
       "    .dataframe tbody tr th:only-of-type {\n",
       "        vertical-align: middle;\n",
       "    }\n",
       "\n",
       "    .dataframe tbody tr th {\n",
       "        vertical-align: top;\n",
       "    }\n",
       "\n",
       "    .dataframe thead th {\n",
       "        text-align: right;\n",
       "    }\n",
       "</style>\n",
       "<table border=\"1\" class=\"dataframe\">\n",
       "  <thead>\n",
       "    <tr style=\"text-align: right;\">\n",
       "      <th></th>\n",
       "      <th>Review</th>\n",
       "      <th>Sentiment</th>\n",
       "    </tr>\n",
       "  </thead>\n",
       "  <tbody>\n",
       "    <tr>\n",
       "      <th>0</th>\n",
       "      <td>way plug unless converter</td>\n",
       "      <td>0</td>\n",
       "    </tr>\n",
       "    <tr>\n",
       "      <th>1</th>\n",
       "      <td>good case excellent value</td>\n",
       "      <td>1</td>\n",
       "    </tr>\n",
       "    <tr>\n",
       "      <th>2</th>\n",
       "      <td>great jawbone</td>\n",
       "      <td>1</td>\n",
       "    </tr>\n",
       "    <tr>\n",
       "      <th>3</th>\n",
       "      <td>tie charger conversation last minutesmajor pro...</td>\n",
       "      <td>0</td>\n",
       "    </tr>\n",
       "    <tr>\n",
       "      <th>4</th>\n",
       "      <td>mic great</td>\n",
       "      <td>1</td>\n",
       "    </tr>\n",
       "    <tr>\n",
       "      <th>...</th>\n",
       "      <td>...</td>\n",
       "      <td>...</td>\n",
       "    </tr>\n",
       "    <tr>\n",
       "      <th>995</th>\n",
       "      <td>screen get smudge easily touch ear face</td>\n",
       "      <td>0</td>\n",
       "    </tr>\n",
       "    <tr>\n",
       "      <th>996</th>\n",
       "      <td>piece junk lose call phone</td>\n",
       "      <td>0</td>\n",
       "    </tr>\n",
       "    <tr>\n",
       "      <th>997</th>\n",
       "      <td>item match picture</td>\n",
       "      <td>0</td>\n",
       "    </tr>\n",
       "    <tr>\n",
       "      <th>998</th>\n",
       "      <td>thing disappoint infra red port irda</td>\n",
       "      <td>0</td>\n",
       "    </tr>\n",
       "    <tr>\n",
       "      <th>999</th>\n",
       "      <td>answer call unit never work</td>\n",
       "      <td>0</td>\n",
       "    </tr>\n",
       "  </tbody>\n",
       "</table>\n",
       "<p>1000 rows × 2 columns</p>\n",
       "</div>"
      ],
      "text/plain": [
       "                                                Review  Sentiment\n",
       "0                            way plug unless converter          0\n",
       "1                            good case excellent value          1\n",
       "2                                        great jawbone          1\n",
       "3    tie charger conversation last minutesmajor pro...          0\n",
       "4                                            mic great          1\n",
       "..                                                 ...        ...\n",
       "995            screen get smudge easily touch ear face          0\n",
       "996                         piece junk lose call phone          0\n",
       "997                                 item match picture          0\n",
       "998               thing disappoint infra red port irda          0\n",
       "999                        answer call unit never work          0\n",
       "\n",
       "[1000 rows x 2 columns]"
      ]
     },
     "execution_count": 23,
     "metadata": {},
     "output_type": "execute_result"
    }
   ],
   "source": [
    "#putting back preprocessed text and labels \n",
    "\n",
    "temp = list(zip(reviews_with_POS_lemmatizing, reviews.Sentiment))\n",
    "reviews2 = pd.DataFrame(temp, columns = ['Review', 'Sentiment'])\n",
    "reviews2"
   ]
  },
  {
   "cell_type": "markdown",
   "id": "1aea66b0",
   "metadata": {},
   "source": [
    "### 7. Transform the text into the bag of words representation with count (tf) values"
   ]
  },
  {
   "cell_type": "code",
   "execution_count": 24,
   "id": "82ee1102",
   "metadata": {},
   "outputs": [
    {
     "data": {
      "text/plain": [
       "array(['abhor', 'ability', 'able', ..., 'youd', 'youll', 'zero'],\n",
       "      dtype=object)"
      ]
     },
     "execution_count": 24,
     "metadata": {},
     "output_type": "execute_result"
    }
   ],
   "source": [
    "cv = CountVectorizer(analyzer='word', ngram_range=(1, 1))\n",
    "cv_reviews = cv.fit_transform(reviews2['Review'])\n",
    "\n",
    "cv.get_feature_names_out()"
   ]
  },
  {
   "cell_type": "code",
   "execution_count": 25,
   "id": "49c4120d",
   "metadata": {},
   "outputs": [
    {
     "name": "stdout",
     "output_type": "stream",
     "text": [
      "[[0 0 0 ... 0 0 0]\n",
      " [0 0 0 ... 0 0 0]\n",
      " [0 0 0 ... 0 0 0]\n",
      " [0 0 0 ... 0 0 0]\n",
      " [0 0 0 ... 0 0 0]]\n"
     ]
    }
   ],
   "source": [
    "print(cv_reviews.toarray()[:5])"
   ]
  },
  {
   "cell_type": "code",
   "execution_count": 26,
   "id": "3a28a5f3",
   "metadata": {},
   "outputs": [
    {
     "data": {
      "text/html": [
       "<div>\n",
       "<style scoped>\n",
       "    .dataframe tbody tr th:only-of-type {\n",
       "        vertical-align: middle;\n",
       "    }\n",
       "\n",
       "    .dataframe tbody tr th {\n",
       "        vertical-align: top;\n",
       "    }\n",
       "\n",
       "    .dataframe thead th {\n",
       "        text-align: right;\n",
       "    }\n",
       "</style>\n",
       "<table border=\"1\" class=\"dataframe\">\n",
       "  <thead>\n",
       "    <tr style=\"text-align: right;\">\n",
       "      <th></th>\n",
       "      <th>abhor</th>\n",
       "      <th>ability</th>\n",
       "      <th>able</th>\n",
       "      <th>abound</th>\n",
       "      <th>abovepretty</th>\n",
       "      <th>absolutel</th>\n",
       "      <th>absolutely</th>\n",
       "      <th>accept</th>\n",
       "      <th>acceptable</th>\n",
       "      <th>access</th>\n",
       "      <th>...</th>\n",
       "      <th>wrong</th>\n",
       "      <th>wrongfirst</th>\n",
       "      <th>year</th>\n",
       "      <th>yearsgreat</th>\n",
       "      <th>yell</th>\n",
       "      <th>yes</th>\n",
       "      <th>yet</th>\n",
       "      <th>youd</th>\n",
       "      <th>youll</th>\n",
       "      <th>zero</th>\n",
       "    </tr>\n",
       "  </thead>\n",
       "  <tbody>\n",
       "    <tr>\n",
       "      <th>0</th>\n",
       "      <td>0</td>\n",
       "      <td>0</td>\n",
       "      <td>0</td>\n",
       "      <td>0</td>\n",
       "      <td>0</td>\n",
       "      <td>0</td>\n",
       "      <td>0</td>\n",
       "      <td>0</td>\n",
       "      <td>0</td>\n",
       "      <td>0</td>\n",
       "      <td>...</td>\n",
       "      <td>0</td>\n",
       "      <td>0</td>\n",
       "      <td>0</td>\n",
       "      <td>0</td>\n",
       "      <td>0</td>\n",
       "      <td>0</td>\n",
       "      <td>0</td>\n",
       "      <td>0</td>\n",
       "      <td>0</td>\n",
       "      <td>0</td>\n",
       "    </tr>\n",
       "    <tr>\n",
       "      <th>1</th>\n",
       "      <td>0</td>\n",
       "      <td>0</td>\n",
       "      <td>0</td>\n",
       "      <td>0</td>\n",
       "      <td>0</td>\n",
       "      <td>0</td>\n",
       "      <td>0</td>\n",
       "      <td>0</td>\n",
       "      <td>0</td>\n",
       "      <td>0</td>\n",
       "      <td>...</td>\n",
       "      <td>0</td>\n",
       "      <td>0</td>\n",
       "      <td>0</td>\n",
       "      <td>0</td>\n",
       "      <td>0</td>\n",
       "      <td>0</td>\n",
       "      <td>0</td>\n",
       "      <td>0</td>\n",
       "      <td>0</td>\n",
       "      <td>0</td>\n",
       "    </tr>\n",
       "    <tr>\n",
       "      <th>2</th>\n",
       "      <td>0</td>\n",
       "      <td>0</td>\n",
       "      <td>0</td>\n",
       "      <td>0</td>\n",
       "      <td>0</td>\n",
       "      <td>0</td>\n",
       "      <td>0</td>\n",
       "      <td>0</td>\n",
       "      <td>0</td>\n",
       "      <td>0</td>\n",
       "      <td>...</td>\n",
       "      <td>0</td>\n",
       "      <td>0</td>\n",
       "      <td>0</td>\n",
       "      <td>0</td>\n",
       "      <td>0</td>\n",
       "      <td>0</td>\n",
       "      <td>0</td>\n",
       "      <td>0</td>\n",
       "      <td>0</td>\n",
       "      <td>0</td>\n",
       "    </tr>\n",
       "    <tr>\n",
       "      <th>3</th>\n",
       "      <td>0</td>\n",
       "      <td>0</td>\n",
       "      <td>0</td>\n",
       "      <td>0</td>\n",
       "      <td>0</td>\n",
       "      <td>0</td>\n",
       "      <td>0</td>\n",
       "      <td>0</td>\n",
       "      <td>0</td>\n",
       "      <td>0</td>\n",
       "      <td>...</td>\n",
       "      <td>0</td>\n",
       "      <td>0</td>\n",
       "      <td>0</td>\n",
       "      <td>0</td>\n",
       "      <td>0</td>\n",
       "      <td>0</td>\n",
       "      <td>0</td>\n",
       "      <td>0</td>\n",
       "      <td>0</td>\n",
       "      <td>0</td>\n",
       "    </tr>\n",
       "    <tr>\n",
       "      <th>4</th>\n",
       "      <td>0</td>\n",
       "      <td>0</td>\n",
       "      <td>0</td>\n",
       "      <td>0</td>\n",
       "      <td>0</td>\n",
       "      <td>0</td>\n",
       "      <td>0</td>\n",
       "      <td>0</td>\n",
       "      <td>0</td>\n",
       "      <td>0</td>\n",
       "      <td>...</td>\n",
       "      <td>0</td>\n",
       "      <td>0</td>\n",
       "      <td>0</td>\n",
       "      <td>0</td>\n",
       "      <td>0</td>\n",
       "      <td>0</td>\n",
       "      <td>0</td>\n",
       "      <td>0</td>\n",
       "      <td>0</td>\n",
       "      <td>0</td>\n",
       "    </tr>\n",
       "    <tr>\n",
       "      <th>...</th>\n",
       "      <td>...</td>\n",
       "      <td>...</td>\n",
       "      <td>...</td>\n",
       "      <td>...</td>\n",
       "      <td>...</td>\n",
       "      <td>...</td>\n",
       "      <td>...</td>\n",
       "      <td>...</td>\n",
       "      <td>...</td>\n",
       "      <td>...</td>\n",
       "      <td>...</td>\n",
       "      <td>...</td>\n",
       "      <td>...</td>\n",
       "      <td>...</td>\n",
       "      <td>...</td>\n",
       "      <td>...</td>\n",
       "      <td>...</td>\n",
       "      <td>...</td>\n",
       "      <td>...</td>\n",
       "      <td>...</td>\n",
       "      <td>...</td>\n",
       "    </tr>\n",
       "    <tr>\n",
       "      <th>995</th>\n",
       "      <td>0</td>\n",
       "      <td>0</td>\n",
       "      <td>0</td>\n",
       "      <td>0</td>\n",
       "      <td>0</td>\n",
       "      <td>0</td>\n",
       "      <td>0</td>\n",
       "      <td>0</td>\n",
       "      <td>0</td>\n",
       "      <td>0</td>\n",
       "      <td>...</td>\n",
       "      <td>0</td>\n",
       "      <td>0</td>\n",
       "      <td>0</td>\n",
       "      <td>0</td>\n",
       "      <td>0</td>\n",
       "      <td>0</td>\n",
       "      <td>0</td>\n",
       "      <td>0</td>\n",
       "      <td>0</td>\n",
       "      <td>0</td>\n",
       "    </tr>\n",
       "    <tr>\n",
       "      <th>996</th>\n",
       "      <td>0</td>\n",
       "      <td>0</td>\n",
       "      <td>0</td>\n",
       "      <td>0</td>\n",
       "      <td>0</td>\n",
       "      <td>0</td>\n",
       "      <td>0</td>\n",
       "      <td>0</td>\n",
       "      <td>0</td>\n",
       "      <td>0</td>\n",
       "      <td>...</td>\n",
       "      <td>0</td>\n",
       "      <td>0</td>\n",
       "      <td>0</td>\n",
       "      <td>0</td>\n",
       "      <td>0</td>\n",
       "      <td>0</td>\n",
       "      <td>0</td>\n",
       "      <td>0</td>\n",
       "      <td>0</td>\n",
       "      <td>0</td>\n",
       "    </tr>\n",
       "    <tr>\n",
       "      <th>997</th>\n",
       "      <td>0</td>\n",
       "      <td>0</td>\n",
       "      <td>0</td>\n",
       "      <td>0</td>\n",
       "      <td>0</td>\n",
       "      <td>0</td>\n",
       "      <td>0</td>\n",
       "      <td>0</td>\n",
       "      <td>0</td>\n",
       "      <td>0</td>\n",
       "      <td>...</td>\n",
       "      <td>0</td>\n",
       "      <td>0</td>\n",
       "      <td>0</td>\n",
       "      <td>0</td>\n",
       "      <td>0</td>\n",
       "      <td>0</td>\n",
       "      <td>0</td>\n",
       "      <td>0</td>\n",
       "      <td>0</td>\n",
       "      <td>0</td>\n",
       "    </tr>\n",
       "    <tr>\n",
       "      <th>998</th>\n",
       "      <td>0</td>\n",
       "      <td>0</td>\n",
       "      <td>0</td>\n",
       "      <td>0</td>\n",
       "      <td>0</td>\n",
       "      <td>0</td>\n",
       "      <td>0</td>\n",
       "      <td>0</td>\n",
       "      <td>0</td>\n",
       "      <td>0</td>\n",
       "      <td>...</td>\n",
       "      <td>0</td>\n",
       "      <td>0</td>\n",
       "      <td>0</td>\n",
       "      <td>0</td>\n",
       "      <td>0</td>\n",
       "      <td>0</td>\n",
       "      <td>0</td>\n",
       "      <td>0</td>\n",
       "      <td>0</td>\n",
       "      <td>0</td>\n",
       "    </tr>\n",
       "    <tr>\n",
       "      <th>999</th>\n",
       "      <td>0</td>\n",
       "      <td>0</td>\n",
       "      <td>0</td>\n",
       "      <td>0</td>\n",
       "      <td>0</td>\n",
       "      <td>0</td>\n",
       "      <td>0</td>\n",
       "      <td>0</td>\n",
       "      <td>0</td>\n",
       "      <td>0</td>\n",
       "      <td>...</td>\n",
       "      <td>0</td>\n",
       "      <td>0</td>\n",
       "      <td>0</td>\n",
       "      <td>0</td>\n",
       "      <td>0</td>\n",
       "      <td>0</td>\n",
       "      <td>0</td>\n",
       "      <td>0</td>\n",
       "      <td>0</td>\n",
       "      <td>0</td>\n",
       "    </tr>\n",
       "  </tbody>\n",
       "</table>\n",
       "<p>1000 rows × 1463 columns</p>\n",
       "</div>"
      ],
      "text/plain": [
       "     abhor  ability  able  abound  abovepretty  absolutel  absolutely  accept  \\\n",
       "0        0        0     0       0            0          0           0       0   \n",
       "1        0        0     0       0            0          0           0       0   \n",
       "2        0        0     0       0            0          0           0       0   \n",
       "3        0        0     0       0            0          0           0       0   \n",
       "4        0        0     0       0            0          0           0       0   \n",
       "..     ...      ...   ...     ...          ...        ...         ...     ...   \n",
       "995      0        0     0       0            0          0           0       0   \n",
       "996      0        0     0       0            0          0           0       0   \n",
       "997      0        0     0       0            0          0           0       0   \n",
       "998      0        0     0       0            0          0           0       0   \n",
       "999      0        0     0       0            0          0           0       0   \n",
       "\n",
       "     acceptable  access  ...  wrong  wrongfirst  year  yearsgreat  yell  yes  \\\n",
       "0             0       0  ...      0           0     0           0     0    0   \n",
       "1             0       0  ...      0           0     0           0     0    0   \n",
       "2             0       0  ...      0           0     0           0     0    0   \n",
       "3             0       0  ...      0           0     0           0     0    0   \n",
       "4             0       0  ...      0           0     0           0     0    0   \n",
       "..          ...     ...  ...    ...         ...   ...         ...   ...  ...   \n",
       "995           0       0  ...      0           0     0           0     0    0   \n",
       "996           0       0  ...      0           0     0           0     0    0   \n",
       "997           0       0  ...      0           0     0           0     0    0   \n",
       "998           0       0  ...      0           0     0           0     0    0   \n",
       "999           0       0  ...      0           0     0           0     0    0   \n",
       "\n",
       "     yet  youd  youll  zero  \n",
       "0      0     0      0     0  \n",
       "1      0     0      0     0  \n",
       "2      0     0      0     0  \n",
       "3      0     0      0     0  \n",
       "4      0     0      0     0  \n",
       "..   ...   ...    ...   ...  \n",
       "995    0     0      0     0  \n",
       "996    0     0      0     0  \n",
       "997    0     0      0     0  \n",
       "998    0     0      0     0  \n",
       "999    0     0      0     0  \n",
       "\n",
       "[1000 rows x 1463 columns]"
      ]
     },
     "execution_count": 26,
     "metadata": {},
     "output_type": "execute_result"
    }
   ],
   "source": [
    "cv_df = pd.DataFrame(data=cv_reviews.toarray(), columns = cv.get_feature_names_out())\n",
    "cv_df"
   ]
  },
  {
   "cell_type": "code",
   "execution_count": 27,
   "id": "910fe26d",
   "metadata": {},
   "outputs": [
    {
     "data": {
      "text/plain": [
       "phone      174\n",
       "work       112\n",
       "great       98\n",
       "good        77\n",
       "use         69\n",
       "well        57\n",
       "product     56\n",
       "headset     55\n",
       "quality     49\n",
       "battery     47\n",
       "dtype: int64"
      ]
     },
     "execution_count": 27,
     "metadata": {},
     "output_type": "execute_result"
    }
   ],
   "source": [
    "cv_df.sum().sort_values(ascending=False)[:10]"
   ]
  },
  {
   "cell_type": "code",
   "execution_count": 28,
   "id": "40cd7de8",
   "metadata": {},
   "outputs": [
    {
     "data": {
      "text/html": [
       "<div>\n",
       "<style scoped>\n",
       "    .dataframe tbody tr th:only-of-type {\n",
       "        vertical-align: middle;\n",
       "    }\n",
       "\n",
       "    .dataframe tbody tr th {\n",
       "        vertical-align: top;\n",
       "    }\n",
       "\n",
       "    .dataframe thead th {\n",
       "        text-align: right;\n",
       "    }\n",
       "</style>\n",
       "<table border=\"1\" class=\"dataframe\">\n",
       "  <thead>\n",
       "    <tr style=\"text-align: right;\">\n",
       "      <th></th>\n",
       "      <th>Idf_weights</th>\n",
       "    </tr>\n",
       "  </thead>\n",
       "  <tbody>\n",
       "    <tr>\n",
       "      <th>abhor</th>\n",
       "      <td>7.215608</td>\n",
       "    </tr>\n",
       "    <tr>\n",
       "      <th>ability</th>\n",
       "      <td>6.810142</td>\n",
       "    </tr>\n",
       "    <tr>\n",
       "      <th>able</th>\n",
       "      <td>6.299317</td>\n",
       "    </tr>\n",
       "    <tr>\n",
       "      <th>abound</th>\n",
       "      <td>7.215608</td>\n",
       "    </tr>\n",
       "    <tr>\n",
       "      <th>abovepretty</th>\n",
       "      <td>7.215608</td>\n",
       "    </tr>\n",
       "    <tr>\n",
       "      <th>...</th>\n",
       "      <td>...</td>\n",
       "    </tr>\n",
       "    <tr>\n",
       "      <th>yes</th>\n",
       "      <td>7.215608</td>\n",
       "    </tr>\n",
       "    <tr>\n",
       "      <th>yet</th>\n",
       "      <td>6.522460</td>\n",
       "    </tr>\n",
       "    <tr>\n",
       "      <th>youd</th>\n",
       "      <td>7.215608</td>\n",
       "    </tr>\n",
       "    <tr>\n",
       "      <th>youll</th>\n",
       "      <td>7.215608</td>\n",
       "    </tr>\n",
       "    <tr>\n",
       "      <th>zero</th>\n",
       "      <td>7.215608</td>\n",
       "    </tr>\n",
       "  </tbody>\n",
       "</table>\n",
       "<p>1463 rows × 1 columns</p>\n",
       "</div>"
      ],
      "text/plain": [
       "             Idf_weights\n",
       "abhor           7.215608\n",
       "ability         6.810142\n",
       "able            6.299317\n",
       "abound          7.215608\n",
       "abovepretty     7.215608\n",
       "...                  ...\n",
       "yes             7.215608\n",
       "yet             6.522460\n",
       "youd            7.215608\n",
       "youll           7.215608\n",
       "zero            7.215608\n",
       "\n",
       "[1463 rows x 1 columns]"
      ]
     },
     "metadata": {},
     "output_type": "display_data"
    }
   ],
   "source": [
    "from sklearn.feature_extraction.text import TfidfTransformer\n",
    "transformer = TfidfTransformer(use_idf = True)\n",
    "tfidf_trans = transformer.fit(cv_reviews)\n",
    "tfidf_trans_df = pd.DataFrame(data= tfidf_trans.idf_, index=cv.get_feature_names_out(), columns=[\"Idf_weights\"])\n",
    "display(tfidf_trans_df)"
   ]
  },
  {
   "cell_type": "code",
   "execution_count": 134,
   "id": "1e17f7f0",
   "metadata": {},
   "outputs": [
    {
     "data": {
      "text/html": [
       "<div>\n",
       "<style scoped>\n",
       "    .dataframe tbody tr th:only-of-type {\n",
       "        vertical-align: middle;\n",
       "    }\n",
       "\n",
       "    .dataframe tbody tr th {\n",
       "        vertical-align: top;\n",
       "    }\n",
       "\n",
       "    .dataframe thead th {\n",
       "        text-align: right;\n",
       "    }\n",
       "</style>\n",
       "<table border=\"1\" class=\"dataframe\">\n",
       "  <thead>\n",
       "    <tr style=\"text-align: right;\">\n",
       "      <th></th>\n",
       "      <th>Idf_weights</th>\n",
       "    </tr>\n",
       "  </thead>\n",
       "  <tbody>\n",
       "    <tr>\n",
       "      <th>phone</th>\n",
       "      <td>2.796767</td>\n",
       "    </tr>\n",
       "    <tr>\n",
       "      <th>work</th>\n",
       "      <td>3.217407</td>\n",
       "    </tr>\n",
       "    <tr>\n",
       "      <th>great</th>\n",
       "      <td>3.334044</td>\n",
       "    </tr>\n",
       "    <tr>\n",
       "      <th>good</th>\n",
       "      <td>3.591267</td>\n",
       "    </tr>\n",
       "    <tr>\n",
       "      <th>use</th>\n",
       "      <td>3.689247</td>\n",
       "    </tr>\n",
       "    <tr>\n",
       "      <th>product</th>\n",
       "      <td>3.865704</td>\n",
       "    </tr>\n",
       "    <tr>\n",
       "      <th>well</th>\n",
       "      <td>3.865704</td>\n",
       "    </tr>\n",
       "    <tr>\n",
       "      <th>headset</th>\n",
       "      <td>3.919771</td>\n",
       "    </tr>\n",
       "    <tr>\n",
       "      <th>quality</th>\n",
       "      <td>3.996732</td>\n",
       "    </tr>\n",
       "    <tr>\n",
       "      <th>battery</th>\n",
       "      <td>4.058607</td>\n",
       "    </tr>\n",
       "  </tbody>\n",
       "</table>\n",
       "</div>"
      ],
      "text/plain": [
       "         Idf_weights\n",
       "phone       2.796767\n",
       "work        3.217407\n",
       "great       3.334044\n",
       "good        3.591267\n",
       "use         3.689247\n",
       "product     3.865704\n",
       "well        3.865704\n",
       "headset     3.919771\n",
       "quality     3.996732\n",
       "battery     4.058607"
      ]
     },
     "execution_count": 134,
     "metadata": {},
     "output_type": "execute_result"
    }
   ],
   "source": [
    "#sort ascending \n",
    "tfidf_trans_df.sort_values(by=['Idf_weights'])[:10]"
   ]
  },
  {
   "cell_type": "code",
   "execution_count": 135,
   "id": "2b2167b4",
   "metadata": {},
   "outputs": [
    {
     "data": {
      "text/plain": [
       "matrix([[0., 0., 0., ..., 0., 0., 0.],\n",
       "        [0., 0., 0., ..., 0., 0., 0.],\n",
       "        [0., 0., 0., ..., 0., 0., 0.],\n",
       "        ...,\n",
       "        [0., 0., 0., ..., 0., 0., 0.],\n",
       "        [0., 0., 0., ..., 0., 0., 0.],\n",
       "        [0., 0., 0., ..., 0., 0., 0.]])"
      ]
     },
     "execution_count": 135,
     "metadata": {},
     "output_type": "execute_result"
    }
   ],
   "source": [
    "#tf-idf values\n",
    "count_vector=cv.transform(reviews2['Review']) \n",
    "# tf-idf scores \n",
    "tf_idf_vector=transformer.transform(count_vector)\n",
    "tf_idf_vector.todense()"
   ]
  },
  {
   "cell_type": "markdown",
   "id": "701d3521",
   "metadata": {},
   "source": [
    "### 8. Transform the text into the bag of words representation with tf-idf values"
   ]
  },
  {
   "cell_type": "code",
   "execution_count": 31,
   "id": "46fef1ee",
   "metadata": {},
   "outputs": [],
   "source": [
    "tv = TfidfVectorizer(use_idf = True)\n",
    "\n",
    "tv_reviews = tv.fit_transform(reviews2['Review'])\n",
    "\n",
    "# print(tv_reviews)"
   ]
  },
  {
   "cell_type": "code",
   "execution_count": 32,
   "id": "95994d0c",
   "metadata": {},
   "outputs": [],
   "source": [
    "# tv.vocabulary_"
   ]
  },
  {
   "cell_type": "code",
   "execution_count": 33,
   "id": "fefe7a8b",
   "metadata": {},
   "outputs": [
    {
     "data": {
      "text/html": [
       "<div>\n",
       "<style scoped>\n",
       "    .dataframe tbody tr th:only-of-type {\n",
       "        vertical-align: middle;\n",
       "    }\n",
       "\n",
       "    .dataframe tbody tr th {\n",
       "        vertical-align: top;\n",
       "    }\n",
       "\n",
       "    .dataframe thead th {\n",
       "        text-align: right;\n",
       "    }\n",
       "</style>\n",
       "<table border=\"1\" class=\"dataframe\">\n",
       "  <thead>\n",
       "    <tr style=\"text-align: right;\">\n",
       "      <th></th>\n",
       "      <th>abhor</th>\n",
       "      <th>ability</th>\n",
       "      <th>able</th>\n",
       "      <th>abound</th>\n",
       "      <th>abovepretty</th>\n",
       "      <th>absolutel</th>\n",
       "      <th>absolutely</th>\n",
       "      <th>accept</th>\n",
       "      <th>acceptable</th>\n",
       "      <th>access</th>\n",
       "      <th>...</th>\n",
       "      <th>wrong</th>\n",
       "      <th>wrongfirst</th>\n",
       "      <th>year</th>\n",
       "      <th>yearsgreat</th>\n",
       "      <th>yell</th>\n",
       "      <th>yes</th>\n",
       "      <th>yet</th>\n",
       "      <th>youd</th>\n",
       "      <th>youll</th>\n",
       "      <th>zero</th>\n",
       "    </tr>\n",
       "  </thead>\n",
       "  <tbody>\n",
       "    <tr>\n",
       "      <th>805</th>\n",
       "      <td>0.0</td>\n",
       "      <td>0.0</td>\n",
       "      <td>0.0</td>\n",
       "      <td>0.0</td>\n",
       "      <td>0.0</td>\n",
       "      <td>0.0</td>\n",
       "      <td>0.0</td>\n",
       "      <td>0.0</td>\n",
       "      <td>0.0</td>\n",
       "      <td>0.0</td>\n",
       "      <td>...</td>\n",
       "      <td>0.0</td>\n",
       "      <td>0.0</td>\n",
       "      <td>0.0</td>\n",
       "      <td>0.0</td>\n",
       "      <td>0.0</td>\n",
       "      <td>0.0</td>\n",
       "      <td>0.0</td>\n",
       "      <td>0.0</td>\n",
       "      <td>0.0</td>\n",
       "      <td>0.0</td>\n",
       "    </tr>\n",
       "    <tr>\n",
       "      <th>855</th>\n",
       "      <td>0.0</td>\n",
       "      <td>0.0</td>\n",
       "      <td>0.0</td>\n",
       "      <td>0.0</td>\n",
       "      <td>0.0</td>\n",
       "      <td>0.0</td>\n",
       "      <td>0.0</td>\n",
       "      <td>0.0</td>\n",
       "      <td>0.0</td>\n",
       "      <td>0.0</td>\n",
       "      <td>...</td>\n",
       "      <td>0.0</td>\n",
       "      <td>0.0</td>\n",
       "      <td>0.0</td>\n",
       "      <td>0.0</td>\n",
       "      <td>0.0</td>\n",
       "      <td>0.0</td>\n",
       "      <td>0.0</td>\n",
       "      <td>0.0</td>\n",
       "      <td>0.0</td>\n",
       "      <td>0.0</td>\n",
       "    </tr>\n",
       "    <tr>\n",
       "      <th>857</th>\n",
       "      <td>0.0</td>\n",
       "      <td>0.0</td>\n",
       "      <td>0.0</td>\n",
       "      <td>0.0</td>\n",
       "      <td>0.0</td>\n",
       "      <td>0.0</td>\n",
       "      <td>0.0</td>\n",
       "      <td>0.0</td>\n",
       "      <td>0.0</td>\n",
       "      <td>0.0</td>\n",
       "      <td>...</td>\n",
       "      <td>0.0</td>\n",
       "      <td>0.0</td>\n",
       "      <td>0.0</td>\n",
       "      <td>0.0</td>\n",
       "      <td>0.0</td>\n",
       "      <td>0.0</td>\n",
       "      <td>0.0</td>\n",
       "      <td>0.0</td>\n",
       "      <td>0.0</td>\n",
       "      <td>0.0</td>\n",
       "    </tr>\n",
       "    <tr>\n",
       "      <th>918</th>\n",
       "      <td>0.0</td>\n",
       "      <td>0.0</td>\n",
       "      <td>0.0</td>\n",
       "      <td>0.0</td>\n",
       "      <td>0.0</td>\n",
       "      <td>0.0</td>\n",
       "      <td>0.0</td>\n",
       "      <td>0.0</td>\n",
       "      <td>0.0</td>\n",
       "      <td>0.0</td>\n",
       "      <td>...</td>\n",
       "      <td>0.0</td>\n",
       "      <td>0.0</td>\n",
       "      <td>0.0</td>\n",
       "      <td>0.0</td>\n",
       "      <td>0.0</td>\n",
       "      <td>0.0</td>\n",
       "      <td>0.0</td>\n",
       "      <td>0.0</td>\n",
       "      <td>0.0</td>\n",
       "      <td>0.0</td>\n",
       "    </tr>\n",
       "  </tbody>\n",
       "</table>\n",
       "<p>4 rows × 1463 columns</p>\n",
       "</div>"
      ],
      "text/plain": [
       "     abhor  ability  able  abound  abovepretty  absolutel  absolutely  accept  \\\n",
       "805    0.0      0.0   0.0     0.0          0.0        0.0         0.0     0.0   \n",
       "855    0.0      0.0   0.0     0.0          0.0        0.0         0.0     0.0   \n",
       "857    0.0      0.0   0.0     0.0          0.0        0.0         0.0     0.0   \n",
       "918    0.0      0.0   0.0     0.0          0.0        0.0         0.0     0.0   \n",
       "\n",
       "     acceptable  access  ...  wrong  wrongfirst  year  yearsgreat  yell  yes  \\\n",
       "805         0.0     0.0  ...    0.0         0.0   0.0         0.0   0.0  0.0   \n",
       "855         0.0     0.0  ...    0.0         0.0   0.0         0.0   0.0  0.0   \n",
       "857         0.0     0.0  ...    0.0         0.0   0.0         0.0   0.0  0.0   \n",
       "918         0.0     0.0  ...    0.0         0.0   0.0         0.0   0.0  0.0   \n",
       "\n",
       "     yet  youd  youll  zero  \n",
       "805  0.0   0.0    0.0   0.0  \n",
       "855  0.0   0.0    0.0   0.0  \n",
       "857  0.0   0.0    0.0   0.0  \n",
       "918  0.0   0.0    0.0   0.0  \n",
       "\n",
       "[4 rows x 1463 columns]"
      ]
     },
     "execution_count": 33,
     "metadata": {},
     "output_type": "execute_result"
    }
   ],
   "source": [
    "tv_df = pd.DataFrame(data= tv_reviews.toarray(), columns=tv.get_feature_names_out())\n",
    "tv_df[tv_df['work'] == 1]"
   ]
  },
  {
   "cell_type": "code",
   "execution_count": 34,
   "id": "d28b2f61",
   "metadata": {},
   "outputs": [],
   "source": [
    "# #selecting all documents \n",
    "# tf_idf = pd.DataFrame(tv_reviews.todense())\n",
    "# print(tf_idf)"
   ]
  },
  {
   "cell_type": "code",
   "execution_count": 35,
   "id": "418c12e6",
   "metadata": {},
   "outputs": [],
   "source": [
    "\n",
    "# tf_idf.columns = tv.get_feature_names_out()\n",
    "# tfidf_matrix = tf_idf.T\n",
    "# tfidf_matrix.columns = ['document'+ str(i) for i in range(0,1000)]\n",
    "# tfidf_matrix['count'] = tfidf_matrix.sum(axis=1)\n",
    "\n",
    "\n",
    "# print(tfidf_matrix)\n"
   ]
  },
  {
   "cell_type": "code",
   "execution_count": 36,
   "id": "4ad9b257",
   "metadata": {},
   "outputs": [],
   "source": [
    "\n",
    "# #top 10 words \n",
    "# tfidf_matrix = tfidf_matrix.sort_values(by ='count', ascending=False)[:10] \n",
    "# tfidf_matrix\n",
    "\n"
   ]
  },
  {
   "cell_type": "code",
   "execution_count": 37,
   "id": "001fcef8",
   "metadata": {},
   "outputs": [],
   "source": [
    "# # Print the first 10 words \n",
    "# print(tfidf_matrix.drop(columns=['count']).head(10))"
   ]
  },
  {
   "cell_type": "markdown",
   "id": "c072672b",
   "metadata": {},
   "source": [
    "### 9. Get to top n features by tf-idf value and obtain descriptive statistics for them"
   ]
  },
  {
   "cell_type": "code",
   "execution_count": 38,
   "id": "a2f63456",
   "metadata": {},
   "outputs": [],
   "source": [
    "features = np.array(tv.get_feature_names_out())"
   ]
  },
  {
   "cell_type": "code",
   "execution_count": 101,
   "id": "fda654f5",
   "metadata": {},
   "outputs": [],
   "source": [
    "def get_top_tfidf_words(tv_reviews, top_n=10):\n",
    "    importance = np.argsort(np.asarray(tv_reviews.sum(axis=0)).ravel())[:: -1]\n",
    "    return features[importance[:top_n]]"
   ]
  },
  {
   "cell_type": "code",
   "execution_count": 100,
   "id": "f7e4d79b",
   "metadata": {},
   "outputs": [
    {
     "data": {
      "text/plain": [
       "array([ 921,  558, 1445, ...,  402,  868,  538])"
      ]
     },
     "metadata": {},
     "output_type": "display_data"
    },
    {
     "data": {
      "text/plain": [
       "['phone',\n",
       " 'great',\n",
       " 'work',\n",
       " 'good',\n",
       " 'product',\n",
       " 'well',\n",
       " 'use',\n",
       " 'headset',\n",
       " 'quality',\n",
       " 'battery']"
      ]
     },
     "execution_count": 100,
     "metadata": {},
     "output_type": "execute_result"
    }
   ],
   "source": [
    "top_10 = get_top_tfidf_words(tv_reviews, 10)\n",
    "list(top_10)"
   ]
  },
  {
   "cell_type": "code",
   "execution_count": 129,
   "id": "a147dd26",
   "metadata": {},
   "outputs": [
    {
     "data": {
      "text/html": [
       "<div>\n",
       "<style scoped>\n",
       "    .dataframe tbody tr th:only-of-type {\n",
       "        vertical-align: middle;\n",
       "    }\n",
       "\n",
       "    .dataframe tbody tr th {\n",
       "        vertical-align: top;\n",
       "    }\n",
       "\n",
       "    .dataframe thead th {\n",
       "        text-align: right;\n",
       "    }\n",
       "</style>\n",
       "<table border=\"1\" class=\"dataframe\">\n",
       "  <thead>\n",
       "    <tr style=\"text-align: right;\">\n",
       "      <th></th>\n",
       "      <th>0</th>\n",
       "    </tr>\n",
       "  </thead>\n",
       "  <tbody>\n",
       "    <tr>\n",
       "      <th>phone</th>\n",
       "      <td>41.337912</td>\n",
       "    </tr>\n",
       "    <tr>\n",
       "      <th>great</th>\n",
       "      <td>38.916905</td>\n",
       "    </tr>\n",
       "    <tr>\n",
       "      <th>work</th>\n",
       "      <td>37.688145</td>\n",
       "    </tr>\n",
       "    <tr>\n",
       "      <th>good</th>\n",
       "      <td>26.757824</td>\n",
       "    </tr>\n",
       "    <tr>\n",
       "      <th>product</th>\n",
       "      <td>21.809860</td>\n",
       "    </tr>\n",
       "    <tr>\n",
       "      <th>well</th>\n",
       "      <td>18.426816</td>\n",
       "    </tr>\n",
       "    <tr>\n",
       "      <th>use</th>\n",
       "      <td>18.364065</td>\n",
       "    </tr>\n",
       "    <tr>\n",
       "      <th>headset</th>\n",
       "      <td>17.198897</td>\n",
       "    </tr>\n",
       "    <tr>\n",
       "      <th>quality</th>\n",
       "      <td>16.584041</td>\n",
       "    </tr>\n",
       "    <tr>\n",
       "      <th>battery</th>\n",
       "      <td>16.452838</td>\n",
       "    </tr>\n",
       "  </tbody>\n",
       "</table>\n",
       "</div>"
      ],
      "text/plain": [
       "                 0\n",
       "phone    41.337912\n",
       "great    38.916905\n",
       "work     37.688145\n",
       "good     26.757824\n",
       "product  21.809860\n",
       "well     18.426816\n",
       "use      18.364065\n",
       "headset  17.198897\n",
       "quality  16.584041\n",
       "battery  16.452838"
      ]
     },
     "execution_count": 129,
     "metadata": {},
     "output_type": "execute_result"
    }
   ],
   "source": [
    "ex = pd.DataFrame(data = tv_reviews.sum(axis=0), columns=features)\n",
    "ex = ex.T\n",
    "\n",
    "ex\n",
    "ex = ex.sort_values(by=0,ascending=False)[:10]\n",
    "ex"
   ]
  },
  {
   "cell_type": "code",
   "execution_count": 103,
   "id": "d675f9cc",
   "metadata": {},
   "outputs": [
    {
     "data": {
      "text/plain": [
       "array([0.5553978 , 0.78640953, 1.78253367, ..., 0.7272638 , 0.65644581,\n",
       "       0.44465463])"
      ]
     },
     "execution_count": 103,
     "metadata": {},
     "output_type": "execute_result"
    }
   ],
   "source": [
    "np.asarray(tv_reviews.sum(axis=0)).ravel()"
   ]
  },
  {
   "cell_type": "code",
   "execution_count": 108,
   "id": "b24e4fdd",
   "metadata": {},
   "outputs": [
    {
     "data": {
      "text/plain": [
       "array([ 921,  558, 1445, ...,  402,  868,  538])"
      ]
     },
     "execution_count": 108,
     "metadata": {},
     "output_type": "execute_result"
    }
   ],
   "source": [
    "np.argsort(np.asarray(tv_reviews.sum(axis=0)).ravel())[:: -1]"
   ]
  },
  {
   "cell_type": "code",
   "execution_count": 106,
   "id": "ad7d9ad5",
   "metadata": {},
   "outputs": [
    {
     "data": {
      "text/plain": [
       "array(['phone', 'great', 'work', 'good', 'product', 'well', 'use',\n",
       "       'headset', 'quality', 'battery'], dtype=object)"
      ]
     },
     "execution_count": 106,
     "metadata": {},
     "output_type": "execute_result"
    }
   ],
   "source": [
    "features[np.argsort(np.asarray(tv_reviews.sum(axis=0)).ravel())[:: -1]][:10]"
   ]
  },
  {
   "cell_type": "code",
   "execution_count": 41,
   "id": "f02862bc",
   "metadata": {},
   "outputs": [
    {
     "data": {
      "image/png": "[encoded data removed]",
      "text/plain": [
       "<PIL.Image.Image image mode=RGB size=400x200 at 0x7FD9220046D0>"
      ]
     },
     "execution_count": 41,
     "metadata": {},
     "output_type": "execute_result"
    }
   ],
   "source": [
    "# Import the wordcloud library\n",
    "from wordcloud import WordCloud\n",
    "# Join the different processed titles together.\n",
    "long_string = ','.join(list(reviews2['Review']))\n",
    "# Create a WordCloud object\n",
    "wordcloud = WordCloud(background_color=\"white\", max_words=1356, contour_width=3, contour_color='steelblue')\n",
    "# Generate a word cloud\n",
    "wordcloud.generate(long_string)\n",
    "# Visualize the word cloud\n",
    "wordcloud.to_image()"
   ]
  },
  {
   "cell_type": "code",
   "execution_count": 42,
   "id": "35507a54",
   "metadata": {},
   "outputs": [],
   "source": [
    "statistics = {}\n",
    "for ans in top_10: \n",
    "    statistics[ans] = tv_df[ans].describe()\n",
    "    \n",
    "    "
   ]
  },
  {
   "cell_type": "code",
   "execution_count": 77,
   "id": "de5ad822",
   "metadata": {},
   "outputs": [
    {
     "data": {
      "text/html": [
       "<div>\n",
       "<style scoped>\n",
       "    .dataframe tbody tr th:only-of-type {\n",
       "        vertical-align: middle;\n",
       "    }\n",
       "\n",
       "    .dataframe tbody tr th {\n",
       "        vertical-align: top;\n",
       "    }\n",
       "\n",
       "    .dataframe thead th {\n",
       "        text-align: right;\n",
       "    }\n",
       "</style>\n",
       "<table border=\"1\" class=\"dataframe\">\n",
       "  <thead>\n",
       "    <tr style=\"text-align: right;\">\n",
       "      <th></th>\n",
       "      <th>mean</th>\n",
       "      <th>std</th>\n",
       "      <th>min</th>\n",
       "      <th>25%</th>\n",
       "      <th>50%</th>\n",
       "      <th>75%</th>\n",
       "      <th>max</th>\n",
       "    </tr>\n",
       "  </thead>\n",
       "  <tbody>\n",
       "    <tr>\n",
       "      <th>phone</th>\n",
       "      <td>0.041338</td>\n",
       "      <td>0.106203</td>\n",
       "      <td>0.0</td>\n",
       "      <td>0.0</td>\n",
       "      <td>0.0</td>\n",
       "      <td>0.0</td>\n",
       "      <td>0.642676</td>\n",
       "    </tr>\n",
       "    <tr>\n",
       "      <th>great</th>\n",
       "      <td>0.038917</td>\n",
       "      <td>0.133015</td>\n",
       "      <td>0.0</td>\n",
       "      <td>0.0</td>\n",
       "      <td>0.0</td>\n",
       "      <td>0.0</td>\n",
       "      <td>0.766138</td>\n",
       "    </tr>\n",
       "    <tr>\n",
       "      <th>work</th>\n",
       "      <td>0.037688</td>\n",
       "      <td>0.126376</td>\n",
       "      <td>0.0</td>\n",
       "      <td>0.0</td>\n",
       "      <td>0.0</td>\n",
       "      <td>0.0</td>\n",
       "      <td>1.000000</td>\n",
       "    </tr>\n",
       "    <tr>\n",
       "      <th>good</th>\n",
       "      <td>0.026758</td>\n",
       "      <td>0.102784</td>\n",
       "      <td>0.0</td>\n",
       "      <td>0.0</td>\n",
       "      <td>0.0</td>\n",
       "      <td>0.0</td>\n",
       "      <td>0.788973</td>\n",
       "    </tr>\n",
       "    <tr>\n",
       "      <th>product</th>\n",
       "      <td>0.021810</td>\n",
       "      <td>0.096465</td>\n",
       "      <td>0.0</td>\n",
       "      <td>0.0</td>\n",
       "      <td>0.0</td>\n",
       "      <td>0.0</td>\n",
       "      <td>0.757261</td>\n",
       "    </tr>\n",
       "    <tr>\n",
       "      <th>well</th>\n",
       "      <td>0.018427</td>\n",
       "      <td>0.082882</td>\n",
       "      <td>0.0</td>\n",
       "      <td>0.0</td>\n",
       "      <td>0.0</td>\n",
       "      <td>0.0</td>\n",
       "      <td>0.768614</td>\n",
       "    </tr>\n",
       "    <tr>\n",
       "      <th>use</th>\n",
       "      <td>0.018364</td>\n",
       "      <td>0.072968</td>\n",
       "      <td>0.0</td>\n",
       "      <td>0.0</td>\n",
       "      <td>0.0</td>\n",
       "      <td>0.0</td>\n",
       "      <td>0.607982</td>\n",
       "    </tr>\n",
       "    <tr>\n",
       "      <th>headset</th>\n",
       "      <td>0.017199</td>\n",
       "      <td>0.077184</td>\n",
       "      <td>0.0</td>\n",
       "      <td>0.0</td>\n",
       "      <td>0.0</td>\n",
       "      <td>0.0</td>\n",
       "      <td>0.638022</td>\n",
       "    </tr>\n",
       "    <tr>\n",
       "      <th>quality</th>\n",
       "      <td>0.016584</td>\n",
       "      <td>0.079576</td>\n",
       "      <td>0.0</td>\n",
       "      <td>0.0</td>\n",
       "      <td>0.0</td>\n",
       "      <td>0.0</td>\n",
       "      <td>0.743830</td>\n",
       "    </tr>\n",
       "    <tr>\n",
       "      <th>battery</th>\n",
       "      <td>0.016453</td>\n",
       "      <td>0.079851</td>\n",
       "      <td>0.0</td>\n",
       "      <td>0.0</td>\n",
       "      <td>0.0</td>\n",
       "      <td>0.0</td>\n",
       "      <td>0.658915</td>\n",
       "    </tr>\n",
       "  </tbody>\n",
       "</table>\n",
       "</div>"
      ],
      "text/plain": [
       "             mean       std  min  25%  50%  75%       max\n",
       "phone    0.041338  0.106203  0.0  0.0  0.0  0.0  0.642676\n",
       "great    0.038917  0.133015  0.0  0.0  0.0  0.0  0.766138\n",
       "work     0.037688  0.126376  0.0  0.0  0.0  0.0  1.000000\n",
       "good     0.026758  0.102784  0.0  0.0  0.0  0.0  0.788973\n",
       "product  0.021810  0.096465  0.0  0.0  0.0  0.0  0.757261\n",
       "well     0.018427  0.082882  0.0  0.0  0.0  0.0  0.768614\n",
       "use      0.018364  0.072968  0.0  0.0  0.0  0.0  0.607982\n",
       "headset  0.017199  0.077184  0.0  0.0  0.0  0.0  0.638022\n",
       "quality  0.016584  0.079576  0.0  0.0  0.0  0.0  0.743830\n",
       "battery  0.016453  0.079851  0.0  0.0  0.0  0.0  0.658915"
      ]
     },
     "execution_count": 77,
     "metadata": {},
     "output_type": "execute_result"
    }
   ],
   "source": [
    "stats = pd.DataFrame(statistics)\n",
    "stats = stats.T\n",
    "stats.drop(columns=['count'], inplace=True)\n",
    "stats"
   ]
  },
  {
   "cell_type": "code",
   "execution_count": 78,
   "id": "9506f922",
   "metadata": {},
   "outputs": [],
   "source": [
    "from scipy.stats import skew, kurtosis"
   ]
  },
  {
   "cell_type": "code",
   "execution_count": 79,
   "id": "7863a871",
   "metadata": {},
   "outputs": [],
   "source": [
    "import matplotlib.pyplot as plt"
   ]
  },
  {
   "cell_type": "code",
   "execution_count": 80,
   "id": "382b4b07",
   "metadata": {},
   "outputs": [
    {
     "data": {
      "text/plain": [
       "Text(0.5, 1.0, 'Distribution of TF-IDF values of the Top-10 frequently occuring terms')"
      ]
     },
     "execution_count": 80,
     "metadata": {},
     "output_type": "execute_result"
    },
    {
     "data": {
      "image/png": "[encoded data removed]",
      "text/plain": [
       "<Figure size 864x720 with 1 Axes>"
      ]
     },
     "metadata": {},
     "output_type": "display_data"
    }
   ],
   "source": [
    "skewness = {}\n",
    "plt.subplots((1), figsize=(12,10))\n",
    "for term in top_10:\n",
    "    temp = tv_df[term]\n",
    "    temp = temp[temp > 0]\n",
    "    skewness[term] = skew(tv_df[term], axis=0, bias=True)\n",
    "    temp.hist(alpha=0.5)\n",
    "plt.legend(top_10)\n",
    "plt.title('Distribution of TF-IDF values of the Top-10 frequently occuring terms')\n",
    "    "
   ]
  },
  {
   "cell_type": "code",
   "execution_count": 133,
   "id": "090a838d",
   "metadata": {},
   "outputs": [
    {
     "data": {
      "text/html": [
       "<div>\n",
       "<style scoped>\n",
       "    .dataframe tbody tr th:only-of-type {\n",
       "        vertical-align: middle;\n",
       "    }\n",
       "\n",
       "    .dataframe tbody tr th {\n",
       "        vertical-align: top;\n",
       "    }\n",
       "\n",
       "    .dataframe thead th {\n",
       "        text-align: right;\n",
       "    }\n",
       "</style>\n",
       "<table border=\"1\" class=\"dataframe\">\n",
       "  <thead>\n",
       "    <tr style=\"text-align: right;\">\n",
       "      <th></th>\n",
       "      <th>mean</th>\n",
       "      <th>std</th>\n",
       "      <th>min</th>\n",
       "      <th>25%</th>\n",
       "      <th>50%</th>\n",
       "      <th>75%</th>\n",
       "      <th>max</th>\n",
       "      <th>Skewness</th>\n",
       "      <th>TF-IDF</th>\n",
       "      <th>total(TF-IDF)</th>\n",
       "    </tr>\n",
       "  </thead>\n",
       "  <tbody>\n",
       "    <tr>\n",
       "      <th>phone</th>\n",
       "      <td>0.041338</td>\n",
       "      <td>0.106203</td>\n",
       "      <td>0.0</td>\n",
       "      <td>0.0</td>\n",
       "      <td>0.0</td>\n",
       "      <td>0.0</td>\n",
       "      <td>0.642676</td>\n",
       "      <td>3.089996</td>\n",
       "      <td>41.337912</td>\n",
       "      <td>41.337912</td>\n",
       "    </tr>\n",
       "    <tr>\n",
       "      <th>great</th>\n",
       "      <td>0.038917</td>\n",
       "      <td>0.133015</td>\n",
       "      <td>0.0</td>\n",
       "      <td>0.0</td>\n",
       "      <td>0.0</td>\n",
       "      <td>0.0</td>\n",
       "      <td>0.766138</td>\n",
       "      <td>3.729103</td>\n",
       "      <td>38.916905</td>\n",
       "      <td>38.916905</td>\n",
       "    </tr>\n",
       "    <tr>\n",
       "      <th>work</th>\n",
       "      <td>0.037688</td>\n",
       "      <td>0.126376</td>\n",
       "      <td>0.0</td>\n",
       "      <td>0.0</td>\n",
       "      <td>0.0</td>\n",
       "      <td>0.0</td>\n",
       "      <td>1.000000</td>\n",
       "      <td>4.206957</td>\n",
       "      <td>37.688145</td>\n",
       "      <td>37.688145</td>\n",
       "    </tr>\n",
       "    <tr>\n",
       "      <th>good</th>\n",
       "      <td>0.026758</td>\n",
       "      <td>0.102784</td>\n",
       "      <td>0.0</td>\n",
       "      <td>0.0</td>\n",
       "      <td>0.0</td>\n",
       "      <td>0.0</td>\n",
       "      <td>0.788973</td>\n",
       "      <td>4.220666</td>\n",
       "      <td>26.757824</td>\n",
       "      <td>26.757824</td>\n",
       "    </tr>\n",
       "    <tr>\n",
       "      <th>product</th>\n",
       "      <td>0.021810</td>\n",
       "      <td>0.096465</td>\n",
       "      <td>0.0</td>\n",
       "      <td>0.0</td>\n",
       "      <td>0.0</td>\n",
       "      <td>0.0</td>\n",
       "      <td>0.757261</td>\n",
       "      <td>4.785191</td>\n",
       "      <td>21.809860</td>\n",
       "      <td>21.809860</td>\n",
       "    </tr>\n",
       "    <tr>\n",
       "      <th>well</th>\n",
       "      <td>0.018427</td>\n",
       "      <td>0.082882</td>\n",
       "      <td>0.0</td>\n",
       "      <td>0.0</td>\n",
       "      <td>0.0</td>\n",
       "      <td>0.0</td>\n",
       "      <td>0.768614</td>\n",
       "      <td>5.172806</td>\n",
       "      <td>18.426816</td>\n",
       "      <td>18.426816</td>\n",
       "    </tr>\n",
       "    <tr>\n",
       "      <th>use</th>\n",
       "      <td>0.018364</td>\n",
       "      <td>0.072968</td>\n",
       "      <td>0.0</td>\n",
       "      <td>0.0</td>\n",
       "      <td>0.0</td>\n",
       "      <td>0.0</td>\n",
       "      <td>0.607982</td>\n",
       "      <td>4.344656</td>\n",
       "      <td>18.364065</td>\n",
       "      <td>18.364065</td>\n",
       "    </tr>\n",
       "    <tr>\n",
       "      <th>headset</th>\n",
       "      <td>0.017199</td>\n",
       "      <td>0.077184</td>\n",
       "      <td>0.0</td>\n",
       "      <td>0.0</td>\n",
       "      <td>0.0</td>\n",
       "      <td>0.0</td>\n",
       "      <td>0.638022</td>\n",
       "      <td>4.810984</td>\n",
       "      <td>17.198897</td>\n",
       "      <td>17.198897</td>\n",
       "    </tr>\n",
       "    <tr>\n",
       "      <th>quality</th>\n",
       "      <td>0.016584</td>\n",
       "      <td>0.079576</td>\n",
       "      <td>0.0</td>\n",
       "      <td>0.0</td>\n",
       "      <td>0.0</td>\n",
       "      <td>0.0</td>\n",
       "      <td>0.743830</td>\n",
       "      <td>5.409559</td>\n",
       "      <td>16.584041</td>\n",
       "      <td>16.584041</td>\n",
       "    </tr>\n",
       "    <tr>\n",
       "      <th>battery</th>\n",
       "      <td>0.016453</td>\n",
       "      <td>0.079851</td>\n",
       "      <td>0.0</td>\n",
       "      <td>0.0</td>\n",
       "      <td>0.0</td>\n",
       "      <td>0.0</td>\n",
       "      <td>0.658915</td>\n",
       "      <td>5.215231</td>\n",
       "      <td>16.452838</td>\n",
       "      <td>16.452838</td>\n",
       "    </tr>\n",
       "  </tbody>\n",
       "</table>\n",
       "</div>"
      ],
      "text/plain": [
       "             mean       std  min  25%  50%  75%       max  Skewness  \\\n",
       "phone    0.041338  0.106203  0.0  0.0  0.0  0.0  0.642676  3.089996   \n",
       "great    0.038917  0.133015  0.0  0.0  0.0  0.0  0.766138  3.729103   \n",
       "work     0.037688  0.126376  0.0  0.0  0.0  0.0  1.000000  4.206957   \n",
       "good     0.026758  0.102784  0.0  0.0  0.0  0.0  0.788973  4.220666   \n",
       "product  0.021810  0.096465  0.0  0.0  0.0  0.0  0.757261  4.785191   \n",
       "well     0.018427  0.082882  0.0  0.0  0.0  0.0  0.768614  5.172806   \n",
       "use      0.018364  0.072968  0.0  0.0  0.0  0.0  0.607982  4.344656   \n",
       "headset  0.017199  0.077184  0.0  0.0  0.0  0.0  0.638022  4.810984   \n",
       "quality  0.016584  0.079576  0.0  0.0  0.0  0.0  0.743830  5.409559   \n",
       "battery  0.016453  0.079851  0.0  0.0  0.0  0.0  0.658915  5.215231   \n",
       "\n",
       "            TF-IDF  total(TF-IDF)  \n",
       "phone    41.337912      41.337912  \n",
       "great    38.916905      38.916905  \n",
       "work     37.688145      37.688145  \n",
       "good     26.757824      26.757824  \n",
       "product  21.809860      21.809860  \n",
       "well     18.426816      18.426816  \n",
       "use      18.364065      18.364065  \n",
       "headset  17.198897      17.198897  \n",
       "quality  16.584041      16.584041  \n",
       "battery  16.452838      16.452838  "
      ]
     },
     "execution_count": 133,
     "metadata": {},
     "output_type": "execute_result"
    }
   ],
   "source": [
    "stats['Skewness'] = skewness.values()\n",
    "stats['total(TF-IDF)'] = ex\n",
    "stats"
   ]
  },
  {
   "cell_type": "code",
   "execution_count": 84,
   "id": "a766c6ce",
   "metadata": {},
   "outputs": [
    {
     "data": {
      "image/png": "[encoded data removed]",
      "text/plain": [
       "<Figure size 1152x1080 with 10 Axes>"
      ]
     },
     "metadata": {},
     "output_type": "display_data"
    }
   ],
   "source": [
    "import seaborn as sns\n",
    "\n",
    "sns.set()\n",
    "\n",
    "#define plotting region (2 rows, 2 columns)\n",
    "fig, axes = plt.subplots(5,2, figsize=(16,15))\n",
    "plt.subplots_adjust(hspace = 0.8)\n",
    "\n",
    "sns.histplot(data=tv_df, x='phone', ax=axes[0,0], kde=True)\n",
    "sns.histplot(data=tv_df, x='work', ax=axes[0,1], kde=True)\n",
    "sns.histplot(data=tv_df, x='great', ax=axes[1,0], kde=True)\n",
    "sns.histplot(data=tv_df, x='good', ax=axes[1,1], kde=True)\n",
    "sns.histplot(data=tv_df, x='product', ax=axes[2,0], kde=True)\n",
    "sns.histplot(data=tv_df, x='use', ax=axes[2,1], kde=True)\n",
    "sns.histplot(data=tv_df, x='headset', ax=axes[3,0], kde=True)\n",
    "sns.histplot(data=tv_df, x='quality', ax=axes[3,1], kde=True)\n",
    "sns.histplot(data=tv_df, x='battery', ax=axes[4,0], kde=True)\n",
    "sns.histplot(data=tv_df, x='price', ax=axes[4,1], kde=True)\n",
    "plt.show()"
   ]
  },
  {
   "cell_type": "code",
   "execution_count": null,
   "id": "5f81fbe4",
   "metadata": {},
   "outputs": [],
   "source": []
  },
  {
   "cell_type": "code",
   "execution_count": null,
   "id": "1df310c2",
   "metadata": {},
   "outputs": [],
   "source": []
  },
  {
   "cell_type": "code",
   "execution_count": 85,
   "id": "799831ad",
   "metadata": {},
   "outputs": [],
   "source": [
    "# cv_df['phone'].hist()"
   ]
  },
  {
   "cell_type": "code",
   "execution_count": 86,
   "id": "a73f6707",
   "metadata": {},
   "outputs": [
    {
     "data": {
      "text/plain": [
       "<AxesSubplot:>"
      ]
     },
     "execution_count": 86,
     "metadata": {},
     "output_type": "execute_result"
    },
    {
     "data": {
      "image/png": "[encoded data removed]",
      "text/plain": [
       "<Figure size 432x288 with 1 Axes>"
      ]
     },
     "metadata": {},
     "output_type": "display_data"
    }
   ],
   "source": [
    "\n",
    "\n",
    "\n",
    "ans = tv_df['phone']\n",
    "\n",
    "ans = ans[ans > 0]\n",
    "ans.hist()\n"
   ]
  },
  {
   "cell_type": "code",
   "execution_count": 87,
   "id": "92f5da77",
   "metadata": {},
   "outputs": [
    {
     "data": {
      "text/plain": [
       "<AxesSubplot:>"
      ]
     },
     "execution_count": 87,
     "metadata": {},
     "output_type": "execute_result"
    },
    {
     "data": {
      "image/png": "[encoded data removed]",
      "text/plain": [
       "<Figure size 432x288 with 1 Axes>"
      ]
     },
     "metadata": {},
     "output_type": "display_data"
    }
   ],
   "source": [
    "\n",
    "ans2 = tv_df['work']\n",
    "\n",
    "ans2 = ans2[ans2 > 0]\n",
    "ans2.hist()\n"
   ]
  },
  {
   "cell_type": "code",
   "execution_count": 88,
   "id": "d4563bba",
   "metadata": {},
   "outputs": [
    {
     "data": {
      "text/plain": [
       "<AxesSubplot:>"
      ]
     },
     "execution_count": 88,
     "metadata": {},
     "output_type": "execute_result"
    },
    {
     "data": {
      "image/png": "[encoded data removed]",
      "text/plain": [
       "<Figure size 432x288 with 1 Axes>"
      ]
     },
     "metadata": {},
     "output_type": "display_data"
    }
   ],
   "source": [
    "\n",
    "ans3 = tv_df['great']\n",
    "\n",
    "ans3 = ans3[ans3 > 0]\n",
    "ans3.hist()\n"
   ]
  },
  {
   "cell_type": "code",
   "execution_count": 89,
   "id": "63a56ad8",
   "metadata": {},
   "outputs": [
    {
     "data": {
      "text/plain": [
       "<AxesSubplot:>"
      ]
     },
     "execution_count": 89,
     "metadata": {},
     "output_type": "execute_result"
    },
    {
     "data": {
      "image/png": "[encoded data removed]",
      "text/plain": [
       "<Figure size 432x288 with 1 Axes>"
      ]
     },
     "metadata": {},
     "output_type": "display_data"
    }
   ],
   "source": [
    "\n",
    "ans4 = tv_df['good']\n",
    "\n",
    "ans4= ans4[ans4 > 0]\n",
    "ans4.hist()"
   ]
  },
  {
   "cell_type": "code",
   "execution_count": 90,
   "id": "95cada6c",
   "metadata": {},
   "outputs": [
    {
     "data": {
      "text/plain": [
       "<AxesSubplot:>"
      ]
     },
     "execution_count": 90,
     "metadata": {},
     "output_type": "execute_result"
    },
    {
     "data": {
      "image/png": "[encoded data removed]",
      "text/plain": [
       "<Figure size 432x288 with 1 Axes>"
      ]
     },
     "metadata": {},
     "output_type": "display_data"
    }
   ],
   "source": [
    "\n",
    "ans5 = tv_df['product']\n",
    "\n",
    "ans5 = ans5[ans5 > 0]\n",
    "ans5.hist()"
   ]
  },
  {
   "cell_type": "code",
   "execution_count": 91,
   "id": "4beaeb30",
   "metadata": {},
   "outputs": [
    {
     "data": {
      "text/plain": [
       "<AxesSubplot:>"
      ]
     },
     "execution_count": 91,
     "metadata": {},
     "output_type": "execute_result"
    },
    {
     "data": {
      "image/png": "[encoded data removed]",
      "text/plain": [
       "<Figure size 432x288 with 1 Axes>"
      ]
     },
     "metadata": {},
     "output_type": "display_data"
    }
   ],
   "source": [
    "\n",
    "ans6 = tv_df['use']\n",
    "\n",
    "ans6 = ans6[ans6 > 0]\n",
    "ans6.hist()"
   ]
  },
  {
   "cell_type": "code",
   "execution_count": 92,
   "id": "18a8746d",
   "metadata": {},
   "outputs": [
    {
     "data": {
      "text/plain": [
       "<AxesSubplot:>"
      ]
     },
     "execution_count": 92,
     "metadata": {},
     "output_type": "execute_result"
    },
    {
     "data": {
      "image/png": "[encoded data removed]",
      "text/plain": [
       "<Figure size 432x288 with 1 Axes>"
      ]
     },
     "metadata": {},
     "output_type": "display_data"
    }
   ],
   "source": [
    "\n",
    "ans7 = tv_df['headset']\n",
    "\n",
    "ans7 = ans7[ans7 > 0]\n",
    "ans7.hist()"
   ]
  },
  {
   "cell_type": "code",
   "execution_count": 93,
   "id": "5eb6b432",
   "metadata": {},
   "outputs": [
    {
     "data": {
      "text/plain": [
       "<AxesSubplot:>"
      ]
     },
     "execution_count": 93,
     "metadata": {},
     "output_type": "execute_result"
    },
    {
     "data": {
      "image/png": "[encoded data removed]",
      "text/plain": [
       "<Figure size 432x288 with 1 Axes>"
      ]
     },
     "metadata": {},
     "output_type": "display_data"
    }
   ],
   "source": [
    "\n",
    "ans8 = tv_df['quality']\n",
    "\n",
    "ans8 = ans8[ans8 > 0]\n",
    "ans8.hist()"
   ]
  },
  {
   "cell_type": "code",
   "execution_count": 94,
   "id": "10813f7c",
   "metadata": {},
   "outputs": [
    {
     "data": {
      "text/plain": [
       "<AxesSubplot:>"
      ]
     },
     "execution_count": 94,
     "metadata": {},
     "output_type": "execute_result"
    },
    {
     "data": {
      "image/png": "[encoded data removed]",
      "text/plain": [
       "<Figure size 432x288 with 1 Axes>"
      ]
     },
     "metadata": {},
     "output_type": "display_data"
    }
   ],
   "source": [
    "\n",
    "ans9 = tv_df['battery']\n",
    "\n",
    "ans9 = ans9[ans9 > 0]\n",
    "ans9.hist()"
   ]
  },
  {
   "cell_type": "code",
   "execution_count": 95,
   "id": "dc96abc2",
   "metadata": {},
   "outputs": [
    {
     "data": {
      "text/plain": [
       "<AxesSubplot:>"
      ]
     },
     "execution_count": 95,
     "metadata": {},
     "output_type": "execute_result"
    },
    {
     "data": {
      "image/png": "[encoded data removed]",
      "text/plain": [
       "<Figure size 432x288 with 1 Axes>"
      ]
     },
     "metadata": {},
     "output_type": "display_data"
    }
   ],
   "source": [
    "\n",
    "ans10 = tv_df['price']\n",
    "\n",
    "ans10= ans10[ans10 > 0]\n",
    "ans10.hist()"
   ]
  },
  {
   "cell_type": "code",
   "execution_count": 96,
   "id": "9ff1b067",
   "metadata": {},
   "outputs": [],
   "source": [
    "\n",
    "hist_details =[ans, ans2, ans3, ans4, ans5, ans6, ans7, ans8, ans9, ans10]\n",
    "\n"
   ]
  },
  {
   "cell_type": "code",
   "execution_count": 97,
   "id": "6f925d7b",
   "metadata": {},
   "outputs": [
    {
     "data": {
      "image/png": "[encoded data removed]",
      "text/plain": [
       "<Figure size 1152x1080 with 10 Axes>"
      ]
     },
     "metadata": {},
     "output_type": "display_data"
    }
   ],
   "source": [
    "#define plotting region (2 rows, 2 columns)\n",
    "fig, axes = plt.subplots(5,2, figsize=(16,15))\n",
    "plt.subplots_adjust(hspace = 0.8)\n",
    "\n",
    "sns.histplot(ans, ax=axes[0,0], kde=True)\n",
    "sns.histplot(ans2,ax=axes[0,1], kde=True)\n",
    "sns.histplot(ans3, ax=axes[1,0], kde=True)\n",
    "sns.histplot(ans4, ax=axes[1,1], kde=True)\n",
    "sns.histplot(ans5, ax=axes[2,0], kde=True)\n",
    "sns.histplot(ans6, ax=axes[2,1], kde=True)\n",
    "sns.histplot(ans7, ax=axes[3,0], kde=True)\n",
    "sns.histplot(ans8, ax=axes[3,1], kde=True)\n",
    "sns.histplot(ans9, ax=axes[4,0], kde=True)\n",
    "sns.histplot(ans10, ax=axes[4,1], kde=True)\n",
    "plt.show()"
   ]
  },
  {
   "cell_type": "code",
   "execution_count": 98,
   "id": "d921f5de",
   "metadata": {},
   "outputs": [
    {
     "data": {
      "text/plain": [
       "{'phone': 174,\n",
       " 'great': 98,\n",
       " 'work': 112,\n",
       " 'good': 77,\n",
       " 'product': 56,\n",
       " 'well': 57,\n",
       " 'use': 69,\n",
       " 'headset': 55,\n",
       " 'quality': 49,\n",
       " 'battery': 47}"
      ]
     },
     "execution_count": 98,
     "metadata": {},
     "output_type": "execute_result"
    }
   ],
   "source": [
    "count = {}\n",
    "for word in top_10:\n",
    "    count[word] = cv_df[word].sum()\n",
    "count"
   ]
  },
  {
   "cell_type": "code",
   "execution_count": null,
   "id": "978837ff",
   "metadata": {},
   "outputs": [],
   "source": [
    "\n"
   ]
  },
  {
   "cell_type": "code",
   "execution_count": null,
   "id": "01ed5f96",
   "metadata": {},
   "outputs": [],
   "source": [
    "\n"
   ]
  },
  {
   "cell_type": "code",
   "execution_count": null,
   "id": "dc0e1d76",
   "metadata": {},
   "outputs": [],
   "source": []
  },
  {
   "cell_type": "code",
   "execution_count": null,
   "id": "f7965ed6",
   "metadata": {},
   "outputs": [],
   "source": []
  },
  {
   "cell_type": "code",
   "execution_count": null,
   "id": "9f410606",
   "metadata": {},
   "outputs": [],
   "source": []
  },
  {
   "cell_type": "code",
   "execution_count": null,
   "id": "c06156ad",
   "metadata": {},
   "outputs": [],
   "source": []
  },
  {
   "cell_type": "code",
   "execution_count": null,
   "id": "e2bde5e3",
   "metadata": {},
   "outputs": [],
   "source": []
  },
  {
   "cell_type": "code",
   "execution_count": null,
   "id": "446bdafc",
   "metadata": {},
   "outputs": [],
   "source": []
  },
  {
   "cell_type": "code",
   "execution_count": null,
   "id": "123864f3",
   "metadata": {},
   "outputs": [],
   "source": []
  }
 ],
 "metadata": {
  "kernelspec": {
   "display_name": "Python 3 (ipykernel)",
   "language": "python",
   "name": "python3"
  },
  "language_info": {
   "codemirror_mode": {
    "name": "ipython",
    "version": 3
   },
   "file_extension": ".py",
   "mimetype": "text/x-python",
   "name": "python",
   "nbconvert_exporter": "python",
   "pygments_lexer": "ipython3",
   "version": "3.9.12"
  }
 },
 "nbformat": 4,
 "nbformat_minor": 5
}
