{
 "cells": [
  {
   "cell_type": "code",
   "execution_count": 1,
   "id": "ec7621dc",
   "metadata": {},
   "outputs": [
    {
     "name": "stdout",
     "output_type": "stream",
     "text": [
      "showing info https://raw.githubusercontent.com/nltk/nltk_data/gh-pages/index.xml\n"
     ]
    },
    {
     "data": {
      "text/plain": [
       "True"
      ]
     },
     "execution_count": 1,
     "metadata": {},
     "output_type": "execute_result"
    }
   ],
   "source": [
    "import numpy as np\n",
    "import pandas as pd \n",
    "import nltk \n",
    "import string \n",
    "\n",
    "from nltk.tokenize import word_tokenize\n",
    "from nltk.corpus import stopwords\n",
    "from sklearn.feature_extraction.text import CountVectorizer \n",
    "from sklearn.feature_extraction.text import TfidfVectorizer \n",
    "nltk.download()"
   ]
  },
  {
   "cell_type": "code",
   "execution_count": 2,
   "id": "cf87a635",
   "metadata": {},
   "outputs": [],
   "source": [
    "import matplotlib.pyplot as plt\n",
    "import seaborn as sns\n",
    "from sklearn.model_selection import train_test_split\n",
    "\n",
    "#classification algorithms \n",
    "from sklearn.tree import DecisionTreeClassifier\n",
    "from sklearn.naive_bayes import MultinomialNB\n",
    "from sklearn.linear_model import SGDClassifier\n",
    "from sklearn.svm import LinearSVC\n",
    "from sklearn.neural_network import MLPClassifier\n",
    "\n",
    "from sklearn.model_selection import cross_val_score\n",
    "from sklearn.model_selection import cross_val_predict\n",
    "\n",
    "from sklearn.preprocessing import MinMaxScaler\n",
    "from sklearn.metrics import classification_report,confusion_matrix,accuracy_score\n",
    "from sklearn.metrics import roc_curve, roc_auc_score"
   ]
  },
  {
   "cell_type": "code",
   "execution_count": 3,
   "id": "1230de54",
   "metadata": {},
   "outputs": [
    {
     "data": {
      "text/html": [
       "<div>\n",
       "<style scoped>\n",
       "    .dataframe tbody tr th:only-of-type {\n",
       "        vertical-align: middle;\n",
       "    }\n",
       "\n",
       "    .dataframe tbody tr th {\n",
       "        vertical-align: top;\n",
       "    }\n",
       "\n",
       "    .dataframe thead th {\n",
       "        text-align: right;\n",
       "    }\n",
       "</style>\n",
       "<table border=\"1\" class=\"dataframe\">\n",
       "  <thead>\n",
       "    <tr style=\"text-align: right;\">\n",
       "      <th></th>\n",
       "      <th>Review</th>\n",
       "      <th>Sentiment</th>\n",
       "    </tr>\n",
       "  </thead>\n",
       "  <tbody>\n",
       "    <tr>\n",
       "      <th>0</th>\n",
       "      <td>So there is no way for me to plug it in here i...</td>\n",
       "      <td>0</td>\n",
       "    </tr>\n",
       "    <tr>\n",
       "      <th>1</th>\n",
       "      <td>Good case, Excellent value.</td>\n",
       "      <td>1</td>\n",
       "    </tr>\n",
       "    <tr>\n",
       "      <th>2</th>\n",
       "      <td>Great for the jawbone.</td>\n",
       "      <td>1</td>\n",
       "    </tr>\n",
       "    <tr>\n",
       "      <th>3</th>\n",
       "      <td>Tied to charger for conversations lasting more...</td>\n",
       "      <td>0</td>\n",
       "    </tr>\n",
       "    <tr>\n",
       "      <th>4</th>\n",
       "      <td>The mic is great.</td>\n",
       "      <td>1</td>\n",
       "    </tr>\n",
       "  </tbody>\n",
       "</table>\n",
       "</div>"
      ],
      "text/plain": [
       "                                              Review  Sentiment\n",
       "0  So there is no way for me to plug it in here i...          0\n",
       "1                        Good case, Excellent value.          1\n",
       "2                             Great for the jawbone.          1\n",
       "3  Tied to charger for conversations lasting more...          0\n",
       "4                                  The mic is great.          1"
      ]
     },
     "execution_count": 3,
     "metadata": {},
     "output_type": "execute_result"
    }
   ],
   "source": [
    "data = pd.read_csv('/Users/sudeshgurung/Msc-Data_Analytics/ADTA_with_python/coursework_part_2/Part_2/dataset/amazon_cells_labelled.txt', sep=\"\\t\" , names = ['Review', 'Sentiment'])\n",
    "data.head()\n",
    "\n"
   ]
  },
  {
   "cell_type": "markdown",
   "id": "abe9c2bd",
   "metadata": {},
   "source": [
    "### pre-processing before classification "
   ]
  },
  {
   "cell_type": "code",
   "execution_count": 4,
   "id": "456d588b",
   "metadata": {},
   "outputs": [
    {
     "data": {
      "text/plain": [
       "Review       string\n",
       "Sentiment     int64\n",
       "dtype: object"
      ]
     },
     "execution_count": 4,
     "metadata": {},
     "output_type": "execute_result"
    }
   ],
   "source": [
    "reviews = data.astype({'Review': 'string'})\n",
    "reviews.dtypes"
   ]
  },
  {
   "cell_type": "code",
   "execution_count": 5,
   "id": "b4583920",
   "metadata": {},
   "outputs": [
    {
     "data": {
      "text/plain": [
       "0    So there is no way for me to plug it in here i...\n",
       "1                          Good case, Excellent value.\n",
       "2                               Great for the jawbone.\n",
       "3    Tied to charger for conversations lasting more...\n",
       "4                                    The mic is great.\n",
       "Name: Review, dtype: string"
      ]
     },
     "execution_count": 5,
     "metadata": {},
     "output_type": "execute_result"
    }
   ],
   "source": [
    "# only the reviews for text pre-processing \n",
    "reviews = reviews['Review']\n",
    "reviews[:5]"
   ]
  },
  {
   "cell_type": "code",
   "execution_count": 6,
   "id": "0aa36db4",
   "metadata": {},
   "outputs": [],
   "source": [
    "reviews1 = []\n",
    "\n",
    "for row in reviews: \n",
    "    #remove punctuation \n",
    "    row = row.translate(str.maketrans('', '', string.punctuation))\n",
    "    \n",
    "    #remove digits/numbers \n",
    "    row = row.translate(str.maketrans('', '', string.digits))\n",
    "    \n",
    "    #change to lowercase \n",
    "    row = row.lower()\n",
    "    \n",
    "    reviews1.append(row)"
   ]
  },
  {
   "cell_type": "code",
   "execution_count": 7,
   "id": "f7a67825",
   "metadata": {},
   "outputs": [
    {
     "data": {
      "text/plain": [
       "['so there is no way for me to plug it in here in the us unless i go by a converter',\n",
       " 'good case excellent value',\n",
       " 'great for the jawbone',\n",
       " 'tied to charger for conversations lasting more than  minutesmajor problems',\n",
       " 'the mic is great']"
      ]
     },
     "execution_count": 7,
     "metadata": {},
     "output_type": "execute_result"
    }
   ],
   "source": [
    "reviews1[:5]"
   ]
  },
  {
   "cell_type": "code",
   "execution_count": 8,
   "id": "89fbe334",
   "metadata": {},
   "outputs": [
    {
     "data": {
      "text/plain": [
       "0    so there is no way for me to plug it in here i...\n",
       "1                            good case excellent value\n",
       "2                                great for the jawbone\n",
       "3    tied to charger for conversations lasting more...\n",
       "4                                     the mic is great\n",
       "dtype: object"
      ]
     },
     "execution_count": 8,
     "metadata": {},
     "output_type": "execute_result"
    }
   ],
   "source": [
    "reviews1 = pd.Series(reviews1)\n",
    "reviews1[:5]"
   ]
  },
  {
   "cell_type": "code",
   "execution_count": 9,
   "id": "6f0a3adb",
   "metadata": {},
   "outputs": [
    {
     "data": {
      "text/plain": [
       "0           there way for plug here the unless converter\n",
       "1                              good case excellent value\n",
       "2                                  great for the jawbone\n",
       "3      tied charger for conversations lasting more th...\n",
       "4                                          the mic great\n",
       "                             ...                        \n",
       "995    the screen does get smudged easily because tou...\n",
       "996           what piece junk lose more calls this phone\n",
       "997                          item does not match picture\n",
       "998    the only thing that disappoint the infra red p...\n",
       "999    you can not answer calls with the unit never w...\n",
       "Length: 1000, dtype: object"
      ]
     },
     "execution_count": 9,
     "metadata": {},
     "output_type": "execute_result"
    }
   ],
   "source": [
    "# removing character less than 3\n",
    "removing_lt_3 = reviews1.apply(lambda x: ' '.join(term for term in x.split() if len(term) > 2))\n",
    "removing_lt_3"
   ]
  },
  {
   "cell_type": "code",
   "execution_count": 10,
   "id": "742b34a5",
   "metadata": {},
   "outputs": [
    {
     "data": {
      "text/plain": [
       "0                            way plug unless converter\n",
       "1                            good case excellent value\n",
       "2                                        great jawbone\n",
       "3    tied charger conversations lasting minutesmajo...\n",
       "4                                            mic great\n",
       "5         jiggle plug get line right get decent volume\n",
       "6    several dozen several hundred contacts imagine...\n",
       "7                                   razr owneryou must\n",
       "8                            needless say wasted money\n",
       "9                                     waste money time\n",
       "dtype: object"
      ]
     },
     "execution_count": 10,
     "metadata": {},
     "output_type": "execute_result"
    }
   ],
   "source": [
    "# setting english stopwords\n",
    "stop_words = set(stopwords.words('English'))\n",
    "\n",
    "reviews1 = removing_lt_3.apply(lambda x: ' '.join(term for term in x.split() if term not in stop_words))\n",
    "reviews1[:10]"
   ]
  },
  {
   "cell_type": "code",
   "execution_count": 11,
   "id": "062639d3",
   "metadata": {},
   "outputs": [
    {
     "data": {
      "text/plain": [
       "'tied charger conversations lasting minutesmajor problems'"
      ]
     },
     "execution_count": 11,
     "metadata": {},
     "output_type": "execute_result"
    }
   ],
   "source": [
    "reviews1[3]"
   ]
  },
  {
   "cell_type": "code",
   "execution_count": 12,
   "id": "86caf48f",
   "metadata": {},
   "outputs": [
    {
     "data": {
      "text/plain": [
       "0                              way plug unless converter\n",
       "1                              good case excellent value\n",
       "2                                          great jawbone\n",
       "3      tied charger conversation lasting minutesmajor...\n",
       "4                                              mic great\n",
       "                             ...                        \n",
       "995             screen get smudged easily touch ear face\n",
       "996                           piece junk lose call phone\n",
       "997                                   item match picture\n",
       "998                 thing disappoint infra red port irda\n",
       "999                        answer call unit never worked\n",
       "Length: 1000, dtype: object"
      ]
     },
     "execution_count": 12,
     "metadata": {},
     "output_type": "execute_result"
    }
   ],
   "source": [
    "#lemmatizing \n",
    "from nltk.stem import WordNetLemmatizer\n",
    "\n",
    "lemmatizer = WordNetLemmatizer()\n",
    "reviews2 = reviews1.apply(lambda x: ' '.join(lemmatizer.lemmatize(w) for w in x.split()))\n",
    "reviews2"
   ]
  },
  {
   "cell_type": "code",
   "execution_count": 13,
   "id": "6f993804",
   "metadata": {},
   "outputs": [
    {
     "data": {
      "text/plain": [
       "0                            way plug unless converter\n",
       "1                            good case excellent value\n",
       "2                                        great jawbone\n",
       "3    tie charger conversation last minutesmajor pro...\n",
       "4                                            mic great\n",
       "5         jiggle plug get line right get decent volume\n",
       "6    several dozen several hundred contact imagine ...\n",
       "7                                   razr owneryou must\n",
       "8                               needle say waste money\n",
       "9                                     waste money time\n",
       "dtype: object"
      ]
     },
     "execution_count": 13,
     "metadata": {},
     "output_type": "execute_result"
    }
   ],
   "source": [
    "# apply lemmatizing with POS tags \n",
    "from nltk.corpus import wordnet \n",
    "\n",
    "def get_wordnet_pos(word):\n",
    "    # Map POS tag to first character Lemmatize() accepts \n",
    "    tag = nltk.pos_tag([word])[0][1][0].upper()\n",
    "#     display(tag)\n",
    "    tag_dict = {\n",
    "        \"J\": wordnet.ADJ,\n",
    "        \"N\": wordnet.NOUN, \n",
    "        \"V\": wordnet.VERB,\n",
    "        \"R\": wordnet.ADV\n",
    "    }\n",
    "    return tag_dict.get(tag, wordnet.NOUN)\n",
    "\n",
    "# init WordNetLemmatizer\n",
    "lemmatizer = WordNetLemmatizer()\n",
    "reviews3 = reviews1.apply(lambda x: ' '.join(lemmatizer.lemmatize(w, get_wordnet_pos(w)) for w in x.split()))\n",
    "reviews3[:10] "
   ]
  },
  {
   "cell_type": "code",
   "execution_count": 14,
   "id": "160b5446",
   "metadata": {},
   "outputs": [
    {
     "data": {
      "text/html": [
       "<div>\n",
       "<style scoped>\n",
       "    .dataframe tbody tr th:only-of-type {\n",
       "        vertical-align: middle;\n",
       "    }\n",
       "\n",
       "    .dataframe tbody tr th {\n",
       "        vertical-align: top;\n",
       "    }\n",
       "\n",
       "    .dataframe thead th {\n",
       "        text-align: right;\n",
       "    }\n",
       "</style>\n",
       "<table border=\"1\" class=\"dataframe\">\n",
       "  <thead>\n",
       "    <tr style=\"text-align: right;\">\n",
       "      <th></th>\n",
       "      <th>Review</th>\n",
       "      <th>Sentiment</th>\n",
       "    </tr>\n",
       "  </thead>\n",
       "  <tbody>\n",
       "    <tr>\n",
       "      <th>0</th>\n",
       "      <td>way plug unless converter</td>\n",
       "      <td>0</td>\n",
       "    </tr>\n",
       "    <tr>\n",
       "      <th>1</th>\n",
       "      <td>good case excellent value</td>\n",
       "      <td>1</td>\n",
       "    </tr>\n",
       "    <tr>\n",
       "      <th>2</th>\n",
       "      <td>great jawbone</td>\n",
       "      <td>1</td>\n",
       "    </tr>\n",
       "    <tr>\n",
       "      <th>3</th>\n",
       "      <td>tie charger conversation last minutesmajor pro...</td>\n",
       "      <td>0</td>\n",
       "    </tr>\n",
       "    <tr>\n",
       "      <th>4</th>\n",
       "      <td>mic great</td>\n",
       "      <td>1</td>\n",
       "    </tr>\n",
       "    <tr>\n",
       "      <th>...</th>\n",
       "      <td>...</td>\n",
       "      <td>...</td>\n",
       "    </tr>\n",
       "    <tr>\n",
       "      <th>995</th>\n",
       "      <td>screen get smudge easily touch ear face</td>\n",
       "      <td>0</td>\n",
       "    </tr>\n",
       "    <tr>\n",
       "      <th>996</th>\n",
       "      <td>piece junk lose call phone</td>\n",
       "      <td>0</td>\n",
       "    </tr>\n",
       "    <tr>\n",
       "      <th>997</th>\n",
       "      <td>item match picture</td>\n",
       "      <td>0</td>\n",
       "    </tr>\n",
       "    <tr>\n",
       "      <th>998</th>\n",
       "      <td>thing disappoint infra red port irda</td>\n",
       "      <td>0</td>\n",
       "    </tr>\n",
       "    <tr>\n",
       "      <th>999</th>\n",
       "      <td>answer call unit never work</td>\n",
       "      <td>0</td>\n",
       "    </tr>\n",
       "  </tbody>\n",
       "</table>\n",
       "<p>1000 rows × 2 columns</p>\n",
       "</div>"
      ],
      "text/plain": [
       "                                                Review  Sentiment\n",
       "0                            way plug unless converter          0\n",
       "1                            good case excellent value          1\n",
       "2                                        great jawbone          1\n",
       "3    tie charger conversation last minutesmajor pro...          0\n",
       "4                                            mic great          1\n",
       "..                                                 ...        ...\n",
       "995            screen get smudge easily touch ear face          0\n",
       "996                         piece junk lose call phone          0\n",
       "997                                 item match picture          0\n",
       "998               thing disappoint infra red port irda          0\n",
       "999                        answer call unit never work          0\n",
       "\n",
       "[1000 rows x 2 columns]"
      ]
     },
     "execution_count": 14,
     "metadata": {},
     "output_type": "execute_result"
    }
   ],
   "source": [
    "#putting back preprocessed text and labels \n",
    "\n",
    "temp = list(zip(reviews3, data.Sentiment))\n",
    "processed_reviews = pd.DataFrame(temp, columns = ['Review', 'Sentiment'])\n",
    "processed_reviews"
   ]
  },
  {
   "cell_type": "code",
   "execution_count": 15,
   "id": "cc20ab57",
   "metadata": {},
   "outputs": [],
   "source": [
    "# processed_reviews['Sentiment'] = processed_reviews.Sentiment.map({\n",
    "#     0: \"NEG\", \n",
    "#     1: \"POS\"\n",
    "# })\n",
    "\n",
    "# processed_reviews"
   ]
  },
  {
   "cell_type": "markdown",
   "id": "fc9ab308",
   "metadata": {},
   "source": [
    "### Shuffling the data "
   ]
  },
  {
   "cell_type": "code",
   "execution_count": 16,
   "id": "eb1d784d",
   "metadata": {},
   "outputs": [
    {
     "data": {
      "text/html": [
       "<div>\n",
       "<style scoped>\n",
       "    .dataframe tbody tr th:only-of-type {\n",
       "        vertical-align: middle;\n",
       "    }\n",
       "\n",
       "    .dataframe tbody tr th {\n",
       "        vertical-align: top;\n",
       "    }\n",
       "\n",
       "    .dataframe thead th {\n",
       "        text-align: right;\n",
       "    }\n",
       "</style>\n",
       "<table border=\"1\" class=\"dataframe\">\n",
       "  <thead>\n",
       "    <tr style=\"text-align: right;\">\n",
       "      <th></th>\n",
       "      <th>index</th>\n",
       "      <th>Review</th>\n",
       "      <th>Sentiment</th>\n",
       "    </tr>\n",
       "  </thead>\n",
       "  <tbody>\n",
       "    <tr>\n",
       "      <th>0</th>\n",
       "      <td>507</td>\n",
       "      <td>holster arrive match photo</td>\n",
       "      <td>0</td>\n",
       "    </tr>\n",
       "    <tr>\n",
       "      <th>1</th>\n",
       "      <td>818</td>\n",
       "      <td>doesnt job</td>\n",
       "      <td>0</td>\n",
       "    </tr>\n",
       "    <tr>\n",
       "      <th>2</th>\n",
       "      <td>452</td>\n",
       "      <td>colleague get great receptiona little expensiv...</td>\n",
       "      <td>1</td>\n",
       "    </tr>\n",
       "    <tr>\n",
       "      <th>3</th>\n",
       "      <td>368</td>\n",
       "      <td>love phone</td>\n",
       "      <td>1</td>\n",
       "    </tr>\n",
       "    <tr>\n",
       "      <th>4</th>\n",
       "      <td>242</td>\n",
       "      <td>bad customer service ever</td>\n",
       "      <td>0</td>\n",
       "    </tr>\n",
       "    <tr>\n",
       "      <th>...</th>\n",
       "      <td>...</td>\n",
       "      <td>...</td>\n",
       "      <td>...</td>\n",
       "    </tr>\n",
       "    <tr>\n",
       "      <th>995</th>\n",
       "      <td>767</td>\n",
       "      <td>really want plantronics right one many issue m...</td>\n",
       "      <td>0</td>\n",
       "    </tr>\n",
       "    <tr>\n",
       "      <th>996</th>\n",
       "      <td>72</td>\n",
       "      <td>great choice</td>\n",
       "      <td>1</td>\n",
       "    </tr>\n",
       "    <tr>\n",
       "      <th>997</th>\n",
       "      <td>908</td>\n",
       "      <td>hear drive car usually dont even put loud set</td>\n",
       "      <td>1</td>\n",
       "    </tr>\n",
       "    <tr>\n",
       "      <th>998</th>\n",
       "      <td>235</td>\n",
       "      <td>one favorite purchase ever</td>\n",
       "      <td>1</td>\n",
       "    </tr>\n",
       "    <tr>\n",
       "      <th>999</th>\n",
       "      <td>37</td>\n",
       "      <td>poor talk time performance</td>\n",
       "      <td>0</td>\n",
       "    </tr>\n",
       "  </tbody>\n",
       "</table>\n",
       "<p>1000 rows × 3 columns</p>\n",
       "</div>"
      ],
      "text/plain": [
       "     index                                             Review  Sentiment\n",
       "0      507                         holster arrive match photo          0\n",
       "1      818                                         doesnt job          0\n",
       "2      452  colleague get great receptiona little expensiv...          1\n",
       "3      368                                         love phone          1\n",
       "4      242                          bad customer service ever          0\n",
       "..     ...                                                ...        ...\n",
       "995    767  really want plantronics right one many issue m...          0\n",
       "996     72                                       great choice          1\n",
       "997    908      hear drive car usually dont even put loud set          1\n",
       "998    235                         one favorite purchase ever          1\n",
       "999     37                         poor talk time performance          0\n",
       "\n",
       "[1000 rows x 3 columns]"
      ]
     },
     "execution_count": 16,
     "metadata": {},
     "output_type": "execute_result"
    }
   ],
   "source": [
    "reviews_shuffeled = processed_reviews.sample(frac=1, random_state=1).reset_index()\n",
    "reviews_shuffeled"
   ]
  },
  {
   "cell_type": "markdown",
   "id": "866afedd",
   "metadata": {},
   "source": [
    "## Spliting the data into Train and Test"
   ]
  },
  {
   "cell_type": "code",
   "execution_count": 17,
   "id": "3618bd94",
   "metadata": {},
   "outputs": [],
   "source": [
    "X = reviews_shuffeled['Review']\n",
    "y = reviews_shuffeled['Sentiment']\n",
    "\n",
    "#split the dataset  \n",
    "X_train, X_test, y_train, y_test = train_test_split(X, y, test_size=0.3, random_state=1)"
   ]
  },
  {
   "cell_type": "code",
   "execution_count": 18,
   "id": "ba3d152a",
   "metadata": {},
   "outputs": [
    {
     "name": "stdout",
     "output_type": "stream",
     "text": [
      "(700,)\n",
      "(700,)\n",
      "(300,)\n",
      "(300,)\n"
     ]
    }
   ],
   "source": [
    "print(X_train.shape)\n",
    "print(y_train.shape)\n",
    "print(X_test.shape)\n",
    "print(y_test.shape)\n"
   ]
  },
  {
   "cell_type": "markdown",
   "id": "ca9e9146",
   "metadata": {},
   "source": [
    "### Making bag of words out of test and train sentences"
   ]
  },
  {
   "cell_type": "markdown",
   "id": "335d9d83",
   "metadata": {},
   "source": [
    "### 1. Count Vectorizer"
   ]
  },
  {
   "cell_type": "code",
   "execution_count": 19,
   "id": "29b11d80",
   "metadata": {},
   "outputs": [],
   "source": [
    "# # using count vectorizer\n",
    "# cv = CountVectorizer(analyzer='word', ngram_range=(1, 1))\n",
    "\n",
    "# #transformed train_sentence\n",
    "# cv_reviews_train = cv.fit_transform(X_train)\n",
    "# train_features = cv.get_feature_names_out()\n",
    "# #transformed test_sentence\n",
    "# cv_reviews_test = cv.transform(X_test)\n",
    "\n",
    "# print(cv_reviews_train.shape)\n",
    "# print(cv_reviews_test.shape)\n",
    "# print(train_features.shape)\n",
    "# test_features = cv.get_feature_names_out()"
   ]
  },
  {
   "cell_type": "code",
   "execution_count": 20,
   "id": "af29a500",
   "metadata": {},
   "outputs": [],
   "source": [
    "# bag_of_words_cv_train = pd.DataFrame(data=cv_reviews_train.toarray(), columns = train_features)\n",
    "# bag_of_words_cv_test =pd.DataFrame(data=cv_reviews_test.toarray(), columns = test_features)\n"
   ]
  },
  {
   "cell_type": "markdown",
   "id": "93e5e145",
   "metadata": {},
   "source": [
    "### 2. Tf-idf Vectorizer"
   ]
  },
  {
   "cell_type": "code",
   "execution_count": 81,
   "id": "520e83d2",
   "metadata": {},
   "outputs": [
    {
     "name": "stdout",
     "output_type": "stream",
     "text": [
      "(700, 1215)\n",
      "(300, 1215)\n"
     ]
    }
   ],
   "source": [
    "# using tfidf vectorizer \n",
    "tv = TfidfVectorizer(analyzer='word', ngram_range=(1, 1))\n",
    "# tv = TfidfVectorizer(analyzer='word', ngram_range=(1, 1), stop_words='english', max_df=0.8, min_df =5)\n",
    "# tv = TfidfVectorizer(analyzer='word', ngram_range=(1, 1), stop_words='english')\n",
    "#transformed train_sentence\n",
    "tv_reviews_train = tv.fit_transform(X_train)\n",
    "tv_train_features = tv.get_feature_names_out()\n",
    "# display(tv_train_features)\n",
    "#test dataset\n",
    "tv_reviews_test = tv.transform(X_test)\n",
    "tv_test_features = tv.get_feature_names_out()\n",
    "\n",
    "print(tv_reviews_train.shape)\n",
    "print(tv_reviews_test.shape)"
   ]
  },
  {
   "cell_type": "code",
   "execution_count": 82,
   "id": "99bcb50e",
   "metadata": {},
   "outputs": [],
   "source": [
    "bag_of_words_tv_train = pd.DataFrame(data = tv_reviews_train.toarray(), columns = tv_train_features)\n",
    "bag_of_words_tv_test = pd.DataFrame(data = tv_reviews_test.toarray(), columns = tv_test_features)"
   ]
  },
  {
   "cell_type": "markdown",
   "id": "fb69f74d",
   "metadata": {},
   "source": [
    "## Functions"
   ]
  },
  {
   "cell_type": "code",
   "execution_count": 83,
   "id": "8da4c779",
   "metadata": {},
   "outputs": [],
   "source": [
    "def confusion_matrix_plot(cm):\n",
    "    ax= plt.subplot()\n",
    "    sns.heatmap(cm, annot=True, fmt='g', ax=ax);  #annot=True to annotate cells, ftm='g' to disable scientific notation\n",
    "\n",
    "    # labels, title and ticks\n",
    "    ax.set_xlabel('Predicted labels')\n",
    "    ax.set_ylabel('True labels')\n",
    "    ax.set_title('Confusion Matrix')\n",
    "    ax.xaxis.set_ticklabels(['NEG', 'POS'])\n",
    "    ax.yaxis.set_ticklabels(['NEG', 'POS'])\n",
    "    \n",
    "    plt.show()"
   ]
  },
  {
   "cell_type": "markdown",
   "id": "3121ea31",
   "metadata": {},
   "source": [
    "## Classification Algorithms"
   ]
  },
  {
   "cell_type": "markdown",
   "id": "c07cbe97",
   "metadata": {},
   "source": [
    "## 1. Decision Tree"
   ]
  },
  {
   "cell_type": "code",
   "execution_count": 84,
   "id": "663bb9cd",
   "metadata": {},
   "outputs": [
    {
     "name": "stdout",
     "output_type": "stream",
     "text": [
      "dt tv_tfidf accuracy : 0.71\n"
     ]
    },
    {
     "data": {
      "image/png": "[encoded data removed]",
      "text/plain": [
       "<Figure size 432x288 with 2 Axes>"
      ]
     },
     "metadata": {
      "needs_background": "light"
     },
     "output_type": "display_data"
    },
    {
     "data": {
      "text/html": [
       "<div>\n",
       "<style scoped>\n",
       "    .dataframe tbody tr th:only-of-type {\n",
       "        vertical-align: middle;\n",
       "    }\n",
       "\n",
       "    .dataframe tbody tr th {\n",
       "        vertical-align: top;\n",
       "    }\n",
       "\n",
       "    .dataframe thead th {\n",
       "        text-align: right;\n",
       "    }\n",
       "</style>\n",
       "<table border=\"1\" class=\"dataframe\">\n",
       "  <thead>\n",
       "    <tr style=\"text-align: right;\">\n",
       "      <th></th>\n",
       "      <th>precision</th>\n",
       "      <th>recall</th>\n",
       "      <th>f1-score</th>\n",
       "      <th>support</th>\n",
       "    </tr>\n",
       "  </thead>\n",
       "  <tbody>\n",
       "    <tr>\n",
       "      <th>NEG</th>\n",
       "      <td>0.716216</td>\n",
       "      <td>0.701987</td>\n",
       "      <td>0.709030</td>\n",
       "      <td>151.00</td>\n",
       "    </tr>\n",
       "    <tr>\n",
       "      <th>POS</th>\n",
       "      <td>0.703947</td>\n",
       "      <td>0.718121</td>\n",
       "      <td>0.710963</td>\n",
       "      <td>149.00</td>\n",
       "    </tr>\n",
       "    <tr>\n",
       "      <th>accuracy</th>\n",
       "      <td>0.710000</td>\n",
       "      <td>0.710000</td>\n",
       "      <td>0.710000</td>\n",
       "      <td>0.71</td>\n",
       "    </tr>\n",
       "    <tr>\n",
       "      <th>macro avg</th>\n",
       "      <td>0.710082</td>\n",
       "      <td>0.710054</td>\n",
       "      <td>0.709997</td>\n",
       "      <td>300.00</td>\n",
       "    </tr>\n",
       "    <tr>\n",
       "      <th>weighted avg</th>\n",
       "      <td>0.710123</td>\n",
       "      <td>0.710000</td>\n",
       "      <td>0.709990</td>\n",
       "      <td>300.00</td>\n",
       "    </tr>\n",
       "  </tbody>\n",
       "</table>\n",
       "</div>"
      ],
      "text/plain": [
       "              precision    recall  f1-score  support\n",
       "NEG            0.716216  0.701987  0.709030   151.00\n",
       "POS            0.703947  0.718121  0.710963   149.00\n",
       "accuracy       0.710000  0.710000  0.710000     0.71\n",
       "macro avg      0.710082  0.710054  0.709997   300.00\n",
       "weighted avg   0.710123  0.710000  0.709990   300.00"
      ]
     },
     "metadata": {},
     "output_type": "display_data"
    }
   ],
   "source": [
    "#initializing the model\n",
    "dt = DecisionTreeClassifier(criterion ='entropy', random_state = 1)\n",
    "\n",
    "# #Fitting the model for Bag of words\n",
    "# dt_bow = dt.fit(cv_reviews_train,y_train)\n",
    "\n",
    "#Fitting the model for tfidf features\n",
    "dt_bow_tfidf = dt.fit(tv_reviews_train,y_train)\n",
    "\n",
    "# #Predicting the model for bag of words\n",
    "# dt_bow_predict = dt.predict(cv_reviews_test)\n",
    "\n",
    "##Predicting the model for tfidf features\n",
    "dt_tfidf_predict = dt.predict(tv_reviews_test)\n",
    "\n",
    "# #Accuracy score for bag of words\n",
    "# dt_bow_score = accuracy_score(y_test, dt_bow_predict)\n",
    "# print(\"dt cv_bow accuracy :\",dt_bow_score)\n",
    "\n",
    "#Accuracy score for tfidf features\n",
    "dt_tfidf_score=accuracy_score(y_test ,dt_tfidf_predict)\n",
    "print(\"dt tv_tfidf accuracy :\",dt_tfidf_score)\n",
    "\n",
    "# #Classification report for bag of words \n",
    "# dt_bow_report=classification_report(y_test,dt_bow_predict,target_names= ['NEG', 'POS'], output_dict = True)\n",
    "\n",
    "\n",
    "# cm_cv = confusion_matrix(y_test ,dt_bow_predict)\n",
    "# confusion_matrix_plot(cm_cv)\n",
    "# display(pd.DataFrame(dt_bow_report).T)\n",
    "\n",
    "#Classification report for tfidf features\n",
    "dt_tfidf_report=classification_report(y_test,dt_tfidf_predict,target_names= ['NEG', 'POS'], output_dict = True)\n",
    "cm_tv = confusion_matrix(y_test,dt_tfidf_predict)\n",
    "confusion_matrix_plot(cm_tv)\n",
    "display(pd.DataFrame(dt_tfidf_report).T)\n"
   ]
  },
  {
   "cell_type": "code",
   "execution_count": 106,
   "id": "49b77316",
   "metadata": {},
   "outputs": [
    {
     "name": "stdout",
     "output_type": "stream",
     "text": [
      "Accuracy: 0.74 (+/- 0.14)\n"
     ]
    }
   ],
   "source": [
    "# cross validation \n",
    "\n",
    "# test_tv = TfidfVectorizer(analyzer='word', ngram_range=(1, 1), stop_words='english', max_df=0.8, min_df =5)\n",
    "# test_tv = TfidfVectorizer(analyzer='word', ngram_range=(1, 1), stop_words='english')\n",
    "test_tv = TfidfVectorizer(analyzer='word', ngram_range=(1, 1))\n",
    "x_values = test_tv.fit_transform(reviews_shuffeled['Review'])\n",
    "df_test = pd.DataFrame(x_values.toarray(), columns = test_tv.get_feature_names_out())\n",
    "# display(df_test)\n",
    "\n",
    "scores = cross_val_score(dt, df_test, reviews_shuffeled['Sentiment'], cv=10)\n",
    "\n",
    "#print the average accuracy across all folds\n",
    "print(\"Accuracy: %0.2f (+/- %0.2f)\" % (scores.mean(), scores.std() * 2))\n",
    "\n"
   ]
  },
  {
   "cell_type": "code",
   "execution_count": 107,
   "id": "7ee18f49",
   "metadata": {},
   "outputs": [
    {
     "data": {
      "image/png": "[encoded data removed]",
      "text/plain": [
       "<Figure size 432x288 with 2 Axes>"
      ]
     },
     "metadata": {
      "needs_background": "light"
     },
     "output_type": "display_data"
    },
    {
     "name": "stdout",
     "output_type": "stream",
     "text": [
      "Accuracy: 0.741\n"
     ]
    },
    {
     "data": {
      "text/html": [
       "<div>\n",
       "<style scoped>\n",
       "    .dataframe tbody tr th:only-of-type {\n",
       "        vertical-align: middle;\n",
       "    }\n",
       "\n",
       "    .dataframe tbody tr th {\n",
       "        vertical-align: top;\n",
       "    }\n",
       "\n",
       "    .dataframe thead th {\n",
       "        text-align: right;\n",
       "    }\n",
       "</style>\n",
       "<table border=\"1\" class=\"dataframe\">\n",
       "  <thead>\n",
       "    <tr style=\"text-align: right;\">\n",
       "      <th></th>\n",
       "      <th>precision</th>\n",
       "      <th>recall</th>\n",
       "      <th>f1-score</th>\n",
       "      <th>support</th>\n",
       "    </tr>\n",
       "  </thead>\n",
       "  <tbody>\n",
       "    <tr>\n",
       "      <th>NEG</th>\n",
       "      <td>0.716338</td>\n",
       "      <td>0.798</td>\n",
       "      <td>0.754967</td>\n",
       "      <td>500.000</td>\n",
       "    </tr>\n",
       "    <tr>\n",
       "      <th>POS</th>\n",
       "      <td>0.772009</td>\n",
       "      <td>0.684</td>\n",
       "      <td>0.725345</td>\n",
       "      <td>500.000</td>\n",
       "    </tr>\n",
       "    <tr>\n",
       "      <th>accuracy</th>\n",
       "      <td>0.741000</td>\n",
       "      <td>0.741</td>\n",
       "      <td>0.741000</td>\n",
       "      <td>0.741</td>\n",
       "    </tr>\n",
       "    <tr>\n",
       "      <th>macro avg</th>\n",
       "      <td>0.744173</td>\n",
       "      <td>0.741</td>\n",
       "      <td>0.740156</td>\n",
       "      <td>1000.000</td>\n",
       "    </tr>\n",
       "    <tr>\n",
       "      <th>weighted avg</th>\n",
       "      <td>0.744173</td>\n",
       "      <td>0.741</td>\n",
       "      <td>0.740156</td>\n",
       "      <td>1000.000</td>\n",
       "    </tr>\n",
       "  </tbody>\n",
       "</table>\n",
       "</div>"
      ],
      "text/plain": [
       "              precision  recall  f1-score   support\n",
       "NEG            0.716338   0.798  0.754967   500.000\n",
       "POS            0.772009   0.684  0.725345   500.000\n",
       "accuracy       0.741000   0.741  0.741000     0.741\n",
       "macro avg      0.744173   0.741  0.740156  1000.000\n",
       "weighted avg   0.744173   0.741  0.740156  1000.000"
      ]
     },
     "execution_count": 107,
     "metadata": {},
     "output_type": "execute_result"
    }
   ],
   "source": [
    "#predicted values\n",
    "dt_cv_tfidf_predict = cross_val_predict(dt, df_test, reviews_shuffeled['Sentiment'], cv=10)\n",
    "\n",
    "cm_tv_cross_dt = confusion_matrix(reviews_shuffeled['Sentiment'], dt_cv_tfidf_predict)\n",
    "confusion_matrix_plot(cm_tv_cross_dt)\n",
    "\n",
    "rep = classification_report(reviews_shuffeled['Sentiment'], dt_cv_tfidf_predict, target_names= ['NEG', 'POS'], output_dict = True)\n",
    "\n",
    "print(\"Accuracy:\", accuracy_score(reviews_shuffeled['Sentiment'], dt_cv_tfidf_predict))\n",
    "pd.DataFrame(rep).T\n"
   ]
  },
  {
   "cell_type": "markdown",
   "id": "e27ecdf6",
   "metadata": {},
   "source": [
    "## 2. Naïve Bayes Classifier"
   ]
  },
  {
   "cell_type": "code",
   "execution_count": 108,
   "id": "2e7f88ec",
   "metadata": {},
   "outputs": [
    {
     "name": "stdout",
     "output_type": "stream",
     "text": [
      "nb tv_tfidf accuracy : 0.8\n"
     ]
    },
    {
     "data": {
      "image/png": "[encoded data removed]",
      "text/plain": [
       "<Figure size 432x288 with 2 Axes>"
      ]
     },
     "metadata": {
      "needs_background": "light"
     },
     "output_type": "display_data"
    },
    {
     "data": {
      "text/html": [
       "<div>\n",
       "<style scoped>\n",
       "    .dataframe tbody tr th:only-of-type {\n",
       "        vertical-align: middle;\n",
       "    }\n",
       "\n",
       "    .dataframe tbody tr th {\n",
       "        vertical-align: top;\n",
       "    }\n",
       "\n",
       "    .dataframe thead th {\n",
       "        text-align: right;\n",
       "    }\n",
       "</style>\n",
       "<table border=\"1\" class=\"dataframe\">\n",
       "  <thead>\n",
       "    <tr style=\"text-align: right;\">\n",
       "      <th></th>\n",
       "      <th>precision</th>\n",
       "      <th>recall</th>\n",
       "      <th>f1-score</th>\n",
       "      <th>support</th>\n",
       "    </tr>\n",
       "  </thead>\n",
       "  <tbody>\n",
       "    <tr>\n",
       "      <th>NEG</th>\n",
       "      <td>0.882353</td>\n",
       "      <td>0.695364</td>\n",
       "      <td>0.777778</td>\n",
       "      <td>151.0</td>\n",
       "    </tr>\n",
       "    <tr>\n",
       "      <th>POS</th>\n",
       "      <td>0.745856</td>\n",
       "      <td>0.906040</td>\n",
       "      <td>0.818182</td>\n",
       "      <td>149.0</td>\n",
       "    </tr>\n",
       "    <tr>\n",
       "      <th>accuracy</th>\n",
       "      <td>0.800000</td>\n",
       "      <td>0.800000</td>\n",
       "      <td>0.800000</td>\n",
       "      <td>0.8</td>\n",
       "    </tr>\n",
       "    <tr>\n",
       "      <th>macro avg</th>\n",
       "      <td>0.814105</td>\n",
       "      <td>0.800702</td>\n",
       "      <td>0.797980</td>\n",
       "      <td>300.0</td>\n",
       "    </tr>\n",
       "    <tr>\n",
       "      <th>weighted avg</th>\n",
       "      <td>0.814560</td>\n",
       "      <td>0.800000</td>\n",
       "      <td>0.797845</td>\n",
       "      <td>300.0</td>\n",
       "    </tr>\n",
       "  </tbody>\n",
       "</table>\n",
       "</div>"
      ],
      "text/plain": [
       "              precision    recall  f1-score  support\n",
       "NEG            0.882353  0.695364  0.777778    151.0\n",
       "POS            0.745856  0.906040  0.818182    149.0\n",
       "accuracy       0.800000  0.800000  0.800000      0.8\n",
       "macro avg      0.814105  0.800702  0.797980    300.0\n",
       "weighted avg   0.814560  0.800000  0.797845    300.0"
      ]
     },
     "metadata": {},
     "output_type": "display_data"
    }
   ],
   "source": [
    "nb = MultinomialNB()\n",
    "\n",
    "#Fitting the model for Bag of words\n",
    "\n",
    "nb_bow_tfidf = nb.fit(tv_reviews_train,y_train)\n",
    "\n",
    "#Predicting the model for bag of words\n",
    "\n",
    "nb_tfidf_predict = nb.predict(tv_reviews_test)\n",
    "\n",
    "#Accuracy score for bag of words\n",
    "\n",
    "nb_tfidf_score=accuracy_score(y_test,nb_tfidf_predict)\n",
    "print(\"nb tv_tfidf accuracy :\",nb_tfidf_score)\n",
    "\n",
    "#Classification report \n",
    "\n",
    "nb_tfidf_report=classification_report(y_test,nb_tfidf_predict, target_names= ['NEG', 'POS'], output_dict = True)\n",
    "cm_nb_tv = confusion_matrix(y_test,nb_tfidf_predict)\n",
    "confusion_matrix_plot(cm_nb_tv)\n",
    "display(pd.DataFrame(nb_tfidf_report).transpose())\n",
    "\n"
   ]
  },
  {
   "cell_type": "code",
   "execution_count": 88,
   "id": "b8476941",
   "metadata": {},
   "outputs": [
    {
     "name": "stdout",
     "output_type": "stream",
     "text": [
      "[0.75 0.81 0.8  0.79 0.77 0.77 0.78 0.82 0.86 0.78]\n",
      "Accuracy: 0.79 (+/- 0.06)\n"
     ]
    }
   ],
   "source": [
    "scores = cross_val_score(nb, df_test, reviews_shuffeled['Sentiment'], cv=10)\n",
    "print(scores)\n",
    "#print the average accuracy across all folds\n",
    "print(\"Accuracy: %0.2f (+/- %0.2f)\" % (scores.mean(), scores.std() * 2))"
   ]
  },
  {
   "cell_type": "code",
   "execution_count": 89,
   "id": "7c706d15",
   "metadata": {},
   "outputs": [
    {
     "data": {
      "image/png": "[encoded data removed]",
      "text/plain": [
       "<Figure size 432x288 with 2 Axes>"
      ]
     },
     "metadata": {
      "needs_background": "light"
     },
     "output_type": "display_data"
    },
    {
     "name": "stdout",
     "output_type": "stream",
     "text": [
      "Accuracy: 0.793\n"
     ]
    },
    {
     "data": {
      "text/html": [
       "<div>\n",
       "<style scoped>\n",
       "    .dataframe tbody tr th:only-of-type {\n",
       "        vertical-align: middle;\n",
       "    }\n",
       "\n",
       "    .dataframe tbody tr th {\n",
       "        vertical-align: top;\n",
       "    }\n",
       "\n",
       "    .dataframe thead th {\n",
       "        text-align: right;\n",
       "    }\n",
       "</style>\n",
       "<table border=\"1\" class=\"dataframe\">\n",
       "  <thead>\n",
       "    <tr style=\"text-align: right;\">\n",
       "      <th></th>\n",
       "      <th>precision</th>\n",
       "      <th>recall</th>\n",
       "      <th>f1-score</th>\n",
       "      <th>support</th>\n",
       "    </tr>\n",
       "  </thead>\n",
       "  <tbody>\n",
       "    <tr>\n",
       "      <th>NEG</th>\n",
       "      <td>0.853012</td>\n",
       "      <td>0.708</td>\n",
       "      <td>0.773770</td>\n",
       "      <td>500.000</td>\n",
       "    </tr>\n",
       "    <tr>\n",
       "      <th>POS</th>\n",
       "      <td>0.750427</td>\n",
       "      <td>0.878</td>\n",
       "      <td>0.809217</td>\n",
       "      <td>500.000</td>\n",
       "    </tr>\n",
       "    <tr>\n",
       "      <th>accuracy</th>\n",
       "      <td>0.793000</td>\n",
       "      <td>0.793</td>\n",
       "      <td>0.793000</td>\n",
       "      <td>0.793</td>\n",
       "    </tr>\n",
       "    <tr>\n",
       "      <th>macro avg</th>\n",
       "      <td>0.801720</td>\n",
       "      <td>0.793</td>\n",
       "      <td>0.791494</td>\n",
       "      <td>1000.000</td>\n",
       "    </tr>\n",
       "    <tr>\n",
       "      <th>weighted avg</th>\n",
       "      <td>0.801720</td>\n",
       "      <td>0.793</td>\n",
       "      <td>0.791494</td>\n",
       "      <td>1000.000</td>\n",
       "    </tr>\n",
       "  </tbody>\n",
       "</table>\n",
       "</div>"
      ],
      "text/plain": [
       "              precision  recall  f1-score   support\n",
       "NEG            0.853012   0.708  0.773770   500.000\n",
       "POS            0.750427   0.878  0.809217   500.000\n",
       "accuracy       0.793000   0.793  0.793000     0.793\n",
       "macro avg      0.801720   0.793  0.791494  1000.000\n",
       "weighted avg   0.801720   0.793  0.791494  1000.000"
      ]
     },
     "execution_count": 89,
     "metadata": {},
     "output_type": "execute_result"
    }
   ],
   "source": [
    "nb_cv_tfidf_predict = cross_val_predict(nb, df_test, reviews_shuffeled['Sentiment'], cv=10)\n",
    "\n",
    "cm_tv_cross_nb = confusion_matrix(reviews_shuffeled['Sentiment'], nb_cv_tfidf_predict)\n",
    "confusion_matrix_plot(cm_tv_cross_nb)\n",
    "\n",
    "rep = classification_report(reviews_shuffeled['Sentiment'], nb_cv_tfidf_predict, target_names= ['NEG', 'POS'], output_dict = True)\n",
    "\n",
    "print(\"Accuracy:\", accuracy_score(reviews_shuffeled['Sentiment'], nb_cv_tfidf_predict))\n",
    "pd.DataFrame(rep).T"
   ]
  },
  {
   "cell_type": "markdown",
   "id": "2c880927",
   "metadata": {},
   "source": [
    "## 3. SVM classifier"
   ]
  },
  {
   "cell_type": "code",
   "execution_count": 110,
   "id": "f1c5ea6b",
   "metadata": {},
   "outputs": [
    {
     "name": "stdout",
     "output_type": "stream",
     "text": [
      "svm tv_tfidf accuracy : 0.8233333333333334\n"
     ]
    },
    {
     "data": {
      "image/png": "[encoded data removed]",
      "text/plain": [
       "<Figure size 432x288 with 2 Axes>"
      ]
     },
     "metadata": {
      "needs_background": "light"
     },
     "output_type": "display_data"
    },
    {
     "data": {
      "text/html": [
       "<div>\n",
       "<style scoped>\n",
       "    .dataframe tbody tr th:only-of-type {\n",
       "        vertical-align: middle;\n",
       "    }\n",
       "\n",
       "    .dataframe tbody tr th {\n",
       "        vertical-align: top;\n",
       "    }\n",
       "\n",
       "    .dataframe thead th {\n",
       "        text-align: right;\n",
       "    }\n",
       "</style>\n",
       "<table border=\"1\" class=\"dataframe\">\n",
       "  <thead>\n",
       "    <tr style=\"text-align: right;\">\n",
       "      <th></th>\n",
       "      <th>precision</th>\n",
       "      <th>recall</th>\n",
       "      <th>f1-score</th>\n",
       "      <th>support</th>\n",
       "    </tr>\n",
       "  </thead>\n",
       "  <tbody>\n",
       "    <tr>\n",
       "      <th>NEG</th>\n",
       "      <td>0.840278</td>\n",
       "      <td>0.801325</td>\n",
       "      <td>0.820339</td>\n",
       "      <td>151.000000</td>\n",
       "    </tr>\n",
       "    <tr>\n",
       "      <th>POS</th>\n",
       "      <td>0.807692</td>\n",
       "      <td>0.845638</td>\n",
       "      <td>0.826230</td>\n",
       "      <td>149.000000</td>\n",
       "    </tr>\n",
       "    <tr>\n",
       "      <th>accuracy</th>\n",
       "      <td>0.823333</td>\n",
       "      <td>0.823333</td>\n",
       "      <td>0.823333</td>\n",
       "      <td>0.823333</td>\n",
       "    </tr>\n",
       "    <tr>\n",
       "      <th>macro avg</th>\n",
       "      <td>0.823985</td>\n",
       "      <td>0.823481</td>\n",
       "      <td>0.823284</td>\n",
       "      <td>300.000000</td>\n",
       "    </tr>\n",
       "    <tr>\n",
       "      <th>weighted avg</th>\n",
       "      <td>0.824094</td>\n",
       "      <td>0.823333</td>\n",
       "      <td>0.823265</td>\n",
       "      <td>300.000000</td>\n",
       "    </tr>\n",
       "  </tbody>\n",
       "</table>\n",
       "</div>"
      ],
      "text/plain": [
       "              precision    recall  f1-score     support\n",
       "NEG            0.840278  0.801325  0.820339  151.000000\n",
       "POS            0.807692  0.845638  0.826230  149.000000\n",
       "accuracy       0.823333  0.823333  0.823333    0.823333\n",
       "macro avg      0.823985  0.823481  0.823284  300.000000\n",
       "weighted avg   0.824094  0.823333  0.823265  300.000000"
      ]
     },
     "metadata": {},
     "output_type": "display_data"
    }
   ],
   "source": [
    "# linear SVM\n",
    "# svm = SGDClassifier(loss='hinge',max_iter=500)\n",
    "svm = LinearSVC()\n",
    "# svm = SVC(kernel = 'linear')\n",
    "\n",
    "#Fitting the model for Bag of words\n",
    "\n",
    "svm_bow_tfidf = svm.fit(tv_reviews_train,y_train)\n",
    "\n",
    "#Predicting the model for bag of words\n",
    "\n",
    "svm_tfidf_predict = svm.predict(tv_reviews_test)\n",
    "\n",
    "#Accuracy score for bag of words\n",
    "\n",
    "svm_tfidf_score=accuracy_score(y_test, svm_tfidf_predict)\n",
    "print(\"svm tv_tfidf accuracy :\",svm_tfidf_score)\n",
    "\n",
    "#Classification report for bag of words \n",
    "\n",
    "\n",
    "\n",
    "svm_tfidf_report=classification_report(y_test, svm_tfidf_predict, target_names= ['NEG', 'POS'], output_dict = True)\n",
    "cm_svm_tv = confusion_matrix(y_test, svm_tfidf_predict)\n",
    "confusion_matrix_plot(cm_svm_tv)\n",
    "display(pd.DataFrame(svm_tfidf_report).T) \n"
   ]
  },
  {
   "cell_type": "code",
   "execution_count": 111,
   "id": "71af2a36",
   "metadata": {},
   "outputs": [
    {
     "name": "stdout",
     "output_type": "stream",
     "text": [
      "[0.79 0.82 0.79 0.82 0.78 0.86 0.85 0.83 0.86 0.77]\n",
      "Accuracy: 0.82 (+/- 0.06)\n"
     ]
    }
   ],
   "source": [
    "scores = cross_val_score(svm, df_test, reviews_shuffeled['Sentiment'], cv=10)\n",
    "print(scores)\n",
    "#print the average accuracy across all folds\n",
    "print(\"Accuracy: %0.2f (+/- %0.2f)\" % (scores.mean(), scores.std() * 2))"
   ]
  },
  {
   "cell_type": "code",
   "execution_count": 112,
   "id": "e75c7f7f",
   "metadata": {},
   "outputs": [
    {
     "data": {
      "image/png": "[encoded data removed]",
      "text/plain": [
       "<Figure size 432x288 with 2 Axes>"
      ]
     },
     "metadata": {
      "needs_background": "light"
     },
     "output_type": "display_data"
    },
    {
     "name": "stdout",
     "output_type": "stream",
     "text": [
      "Accuracy: 0.817\n"
     ]
    },
    {
     "data": {
      "text/html": [
       "<div>\n",
       "<style scoped>\n",
       "    .dataframe tbody tr th:only-of-type {\n",
       "        vertical-align: middle;\n",
       "    }\n",
       "\n",
       "    .dataframe tbody tr th {\n",
       "        vertical-align: top;\n",
       "    }\n",
       "\n",
       "    .dataframe thead th {\n",
       "        text-align: right;\n",
       "    }\n",
       "</style>\n",
       "<table border=\"1\" class=\"dataframe\">\n",
       "  <thead>\n",
       "    <tr style=\"text-align: right;\">\n",
       "      <th></th>\n",
       "      <th>precision</th>\n",
       "      <th>recall</th>\n",
       "      <th>f1-score</th>\n",
       "      <th>support</th>\n",
       "    </tr>\n",
       "  </thead>\n",
       "  <tbody>\n",
       "    <tr>\n",
       "      <th>NEG</th>\n",
       "      <td>0.800759</td>\n",
       "      <td>0.844</td>\n",
       "      <td>0.821811</td>\n",
       "      <td>500.000</td>\n",
       "    </tr>\n",
       "    <tr>\n",
       "      <th>POS</th>\n",
       "      <td>0.835095</td>\n",
       "      <td>0.790</td>\n",
       "      <td>0.811922</td>\n",
       "      <td>500.000</td>\n",
       "    </tr>\n",
       "    <tr>\n",
       "      <th>accuracy</th>\n",
       "      <td>0.817000</td>\n",
       "      <td>0.817</td>\n",
       "      <td>0.817000</td>\n",
       "      <td>0.817</td>\n",
       "    </tr>\n",
       "    <tr>\n",
       "      <th>macro avg</th>\n",
       "      <td>0.817927</td>\n",
       "      <td>0.817</td>\n",
       "      <td>0.816866</td>\n",
       "      <td>1000.000</td>\n",
       "    </tr>\n",
       "    <tr>\n",
       "      <th>weighted avg</th>\n",
       "      <td>0.817927</td>\n",
       "      <td>0.817</td>\n",
       "      <td>0.816866</td>\n",
       "      <td>1000.000</td>\n",
       "    </tr>\n",
       "  </tbody>\n",
       "</table>\n",
       "</div>"
      ],
      "text/plain": [
       "              precision  recall  f1-score   support\n",
       "NEG            0.800759   0.844  0.821811   500.000\n",
       "POS            0.835095   0.790  0.811922   500.000\n",
       "accuracy       0.817000   0.817  0.817000     0.817\n",
       "macro avg      0.817927   0.817  0.816866  1000.000\n",
       "weighted avg   0.817927   0.817  0.816866  1000.000"
      ]
     },
     "execution_count": 112,
     "metadata": {},
     "output_type": "execute_result"
    }
   ],
   "source": [
    "svm_cv_tfidf_predict = cross_val_predict(svm, df_test, reviews_shuffeled['Sentiment'], cv=10)\n",
    "\n",
    "cm_tv_cross_svm = confusion_matrix(reviews_shuffeled['Sentiment'], svm_cv_tfidf_predict)\n",
    "confusion_matrix_plot(cm_tv_cross_svm)\n",
    "\n",
    "rep = classification_report(reviews_shuffeled['Sentiment'], svm_cv_tfidf_predict, target_names= ['NEG', 'POS'], output_dict = True)\n",
    "\n",
    "print(\"Accuracy:\", accuracy_score(reviews_shuffeled['Sentiment'], svm_cv_tfidf_predict))\n",
    "pd.DataFrame(rep).T"
   ]
  },
  {
   "cell_type": "markdown",
   "id": "17423f63",
   "metadata": {},
   "source": [
    "## ROC Curves "
   ]
  },
  {
   "cell_type": "code",
   "execution_count": 113,
   "id": "37d55135",
   "metadata": {},
   "outputs": [
    {
     "data": {
      "image/png": "[encoded data removed]",
      "text/plain": [
       "<Figure size 720x720 with 1 Axes>"
      ]
     },
     "metadata": {
      "needs_background": "light"
     },
     "output_type": "display_data"
    }
   ],
   "source": [
    "#decision tree\n",
    "FP_DT, TP_DT, threshold_DT = roc_curve(y_test, dt_tfidf_predict)\n",
    "auc_DT = round(roc_auc_score(y_test, dt_tfidf_predict), 2)\n",
    "\n",
    "#NB\n",
    "FP_NB, TP_NB, threshold_NB = roc_curve(y_test, nb_tfidf_predict)\n",
    "auc_NB = round(roc_auc_score(y_test, nb_tfidf_predict), 2)\n",
    "\n",
    "#SVM\n",
    "FP_SVM, TP_SVM, threshold_SVM = roc_curve(y_test, svm_tfidf_predict)\n",
    "auc_SVM = round(roc_auc_score(y_test, svm_tfidf_predict), 2)\n",
    "\n",
    "\n",
    "\n",
    "plt.subplots(1, figsize=(10,10))\n",
    "plt.title('Receiver Operating Characteristic for algorithms')\n",
    "\n",
    "plt.plot(FP_DT, TP_DT, label=\"Decision Trees, AUC = \"+str(auc_DT))\n",
    "plt.plot(FP_SVM, TP_SVM, label=\"SVM, AUC = \"+str(auc_SVM))\n",
    "plt.plot(FP_NB, TP_NB, label=\"Naïve Bayes, AUC = \"+str(auc_NB))\n",
    "\n",
    "plt.plot([0, 1], ls=\"--\")\n",
    "plt.plot([0, 0], [1, 0] , c=\".7\"), plt.plot([1, 1] , c=\".7\")\n",
    "plt.ylabel('True Positive Rate')\n",
    "plt.xlabel('False Positive Rate')\n",
    "plt.legend()\n",
    "plt.show()"
   ]
  },
  {
   "cell_type": "markdown",
   "id": "ba4be5b1",
   "metadata": {},
   "source": [
    "## ROC-AUC curve for cross validation"
   ]
  },
  {
   "cell_type": "code",
   "execution_count": 114,
   "id": "6faa3403",
   "metadata": {},
   "outputs": [
    {
     "data": {
      "image/png": "[encoded data removed]",
      "text/plain": [
       "<Figure size 720x720 with 1 Axes>"
      ]
     },
     "metadata": {
      "needs_background": "light"
     },
     "output_type": "display_data"
    }
   ],
   "source": [
    "# decision tree for cross validation \n",
    "FP_DT, TP_DT, threshold_DT = roc_curve(reviews_shuffeled['Sentiment'], dt_cv_tfidf_predict)\n",
    "auc_DT = round(roc_auc_score(reviews_shuffeled['Sentiment'], dt_cv_tfidf_predict), 2)\n",
    "\n",
    "#NB\n",
    "FP_NB, TP_NB, threshold_NB = roc_curve(reviews_shuffeled['Sentiment'], nb_cv_tfidf_predict)\n",
    "auc_NB = round(roc_auc_score(reviews_shuffeled['Sentiment'], nb_cv_tfidf_predict), 2)\n",
    "\n",
    "#SVM\n",
    "FP_SVM, TP_SVM, threshold_SVM = roc_curve(reviews_shuffeled['Sentiment'], svm_cv_tfidf_predict)\n",
    "auc_SVM = round(roc_auc_score(reviews_shuffeled['Sentiment'], svm_cv_tfidf_predict), 2)\n",
    "\n",
    "\n",
    "\n",
    "plt.subplots(1, figsize=(10,10))\n",
    "plt.title('Receiver Operating Characteristic for algorithms')\n",
    "\n",
    "plt.plot(FP_DT, TP_DT, label=\"Decision Trees, AUC = \"+str(auc_DT))\n",
    "plt.plot(FP_SVM, TP_SVM, label=\"SVM, AUC = \"+str(auc_SVM))\n",
    "plt.plot(FP_NB, TP_NB, label=\"Naïve Bayes, AUC = \"+str(auc_NB))\n",
    "\n",
    "plt.plot([0, 1], ls=\"--\")\n",
    "plt.plot([0, 0], [1, 0] , c=\".7\"), plt.plot([1, 1] , c=\".7\")\n",
    "plt.ylabel('True Positive Rate')\n",
    "plt.xlabel('False Positive Rate')\n",
    "plt.legend()\n",
    "plt.show()"
   ]
  },
  {
   "cell_type": "code",
   "execution_count": 95,
   "id": "2c71d1fb",
   "metadata": {},
   "outputs": [],
   "source": [
    "# skplt.metrics.plot_roc_curve(y_true, y_probas)\n",
    "# plt.show()"
   ]
  },
  {
   "cell_type": "markdown",
   "id": "8ca6edd3",
   "metadata": {},
   "source": [
    "## 4. Neural Networks "
   ]
  },
  {
   "cell_type": "code",
   "execution_count": 96,
   "id": "d797aba7",
   "metadata": {},
   "outputs": [],
   "source": [
    "# clf = MLPClassifier(solver='lbfgs', random_state = 1)"
   ]
  },
  {
   "cell_type": "code",
   "execution_count": 97,
   "id": "ce96afd1",
   "metadata": {},
   "outputs": [],
   "source": [
    "# scaler = MinMaxScaler()\n",
    "# transformed_cv_train = scaler.fit_transform(bag_of_words_cv_train)\n",
    "# transformed_cv_test = scaler.fit_transform(bag_of_words_cv_test)\n",
    "# transformed_tv_train = scaler.fit_transform(bag_of_words_tv_train)\n",
    "# transformed_tv_test = scaler.fit_transform(bag_of_words_cv_test)"
   ]
  },
  {
   "cell_type": "code",
   "execution_count": 98,
   "id": "4f4278d7",
   "metadata": {},
   "outputs": [],
   "source": [
    "# transformed_cv_train"
   ]
  },
  {
   "cell_type": "code",
   "execution_count": null,
   "id": "f482fe6f",
   "metadata": {},
   "outputs": [],
   "source": [
    "\n"
   ]
  },
  {
   "cell_type": "code",
   "execution_count": 99,
   "id": "54b7592e",
   "metadata": {},
   "outputs": [],
   "source": [
    "# #fitting the data \n",
    "# clf_bow_cv = clf.fit(cv_reviews_train, y_train)\n",
    "# clf_bow_tfidf = clf.fit(tv_reviews_train, y_train)\n",
    "\n",
    "# # predicting the data \n",
    "# clf_cv_predict = clf.predict(cv_reviews_test)\n",
    "# clf_tv_predict = clf.predict(tv_reviews_test)\n",
    "\n",
    "# # accuracy \n",
    "# clf_cv_score = accuracy_score(y_test, clf_cv_predict)\n",
    "# clf_tv_score = accuracy_score(y_test, clf_tv_predict)\n",
    "# print(\"MLP Classifier cv_bow accuracy: \", clf_cv_score)\n",
    "# print(\"MLP Classifier tv_bow accuracy: \", clf_tv_score)\n",
    "\n",
    "# # classification report \n",
    "# clf_cv_report = classification_report(y_test, clf_cv_predict)\n",
    "# print(confusion_matrix(y_test, clf_cv_predict))\n",
    "# print(clf_cv_report)\n",
    "\n",
    "# clf_tv_report = classification_report(y_test, clf_tv_predict)\n",
    "# cm = confusion_matrix(y_test, clf_tv_predict)\n",
    "# confusion_matrix_plot(cm)\n",
    "# print(confusion_matrix(y_test, clf_tv_predict))\n",
    "# print(clf_tv_report)\n",
    "\n"
   ]
  },
  {
   "cell_type": "code",
   "execution_count": 100,
   "id": "7632432b",
   "metadata": {},
   "outputs": [],
   "source": [
    "#AUC score and ROC curve\n",
    "\n",
    "# FP, TP, threshold1 = roc_curve(y_test, clf_cv_predict)\n",
    "# print('roc_auc_score for NB: ', roc_auc_score(y_test, clf_tv_predict))\n",
    "\n",
    "\n",
    "\n",
    "# plt.subplots(1, figsize=(10,10))\n",
    "# plt.title('Receiver Operating Characteristic - MLPClassifier')\n",
    "# plt.plot(FP, TP)\n",
    "# plt.plot([0, 1], ls=\"--\")\n",
    "# plt.plot([0, 0], [1, 0] , c=\".7\"), plt.plot([1, 1] , c=\".7\")\n",
    "# plt.ylabel('True Positive Rate')\n",
    "# plt.xlabel('False Positive Rate')\n",
    "# plt.show()"
   ]
  },
  {
   "cell_type": "code",
   "execution_count": 101,
   "id": "4a0b0553",
   "metadata": {},
   "outputs": [],
   "source": [
    "# from sklearn.pipeline import make_pipeline"
   ]
  },
  {
   "cell_type": "code",
   "execution_count": 102,
   "id": "9c83414a",
   "metadata": {},
   "outputs": [],
   "source": [
    "# model = make_pipeline(TfidfVectorizer(analyzer= 'word', ngram_range=(1,1)), MLPClassifier(solver='lbfgs', random_state = 1))\n",
    "# model.fit(X_train, y_train)\n",
    "# prediction = model.predict(X_test)"
   ]
  },
  {
   "cell_type": "code",
   "execution_count": 103,
   "id": "bbed04fb",
   "metadata": {
    "scrolled": true
   },
   "outputs": [],
   "source": [
    "# print(classification_report(y_test, prediction))"
   ]
  },
  {
   "cell_type": "code",
   "execution_count": 79,
   "id": "fb39abfc",
   "metadata": {},
   "outputs": [],
   "source": [
    "# model = make_pipeline(CountVectorizer(), DecisionTreeClassifier(criterion ='entropy'))\n",
    "# model.fit(X_train, y_train)\n",
    "# prediction = model.predict(X_test)"
   ]
  },
  {
   "cell_type": "code",
   "execution_count": 80,
   "id": "a0507c0d",
   "metadata": {},
   "outputs": [],
   "source": [
    "# print(classification_report(y_test, prediction))"
   ]
  },
  {
   "cell_type": "markdown",
   "id": "8574fb38",
   "metadata": {},
   "source": [
    "## Cross validation "
   ]
  },
  {
   "cell_type": "code",
   "execution_count": 53,
   "id": "815ef8c4",
   "metadata": {},
   "outputs": [],
   "source": [
    "# dt \n",
    "\n"
   ]
  },
  {
   "cell_type": "code",
   "execution_count": null,
   "id": "af6213a7",
   "metadata": {},
   "outputs": [],
   "source": []
  },
  {
   "cell_type": "code",
   "execution_count": null,
   "id": "376dea33",
   "metadata": {},
   "outputs": [],
   "source": []
  },
  {
   "cell_type": "code",
   "execution_count": null,
   "id": "7af5aac9",
   "metadata": {},
   "outputs": [],
   "source": []
  },
  {
   "cell_type": "code",
   "execution_count": null,
   "id": "bf3e3f31",
   "metadata": {},
   "outputs": [],
   "source": []
  },
  {
   "cell_type": "code",
   "execution_count": null,
   "id": "6d5ba4b4",
   "metadata": {},
   "outputs": [],
   "source": []
  }
 ],
 "metadata": {
  "kernelspec": {
   "display_name": "Python 3 (ipykernel)",
   "language": "python",
   "name": "python3"
  },
  "language_info": {
   "codemirror_mode": {
    "name": "ipython",
    "version": 3
   },
   "file_extension": ".py",
   "mimetype": "text/x-python",
   "name": "python",
   "nbconvert_exporter": "python",
   "pygments_lexer": "ipython3",
   "version": "3.9.12"
  }
 },
 "nbformat": 4,
 "nbformat_minor": 5
}
